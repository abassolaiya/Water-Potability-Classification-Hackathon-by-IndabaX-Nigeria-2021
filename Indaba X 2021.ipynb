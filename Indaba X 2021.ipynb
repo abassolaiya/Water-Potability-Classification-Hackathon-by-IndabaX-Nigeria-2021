{
 "cells": [
  {
   "cell_type": "code",
   "execution_count": 1,
   "id": "4758304b",
   "metadata": {},
   "outputs": [],
   "source": [
    "import numpy as np\n",
    "import pandas as pd\n",
    "import matplotlib.pyplot as plt\n",
    "import seaborn as sns\n",
    "%matplotlib inline"
   ]
  },
  {
   "cell_type": "code",
   "execution_count": 2,
   "id": "118f71de",
   "metadata": {},
   "outputs": [],
   "source": [
    "df = pd.read_csv('train.csv')"
   ]
  },
  {
   "cell_type": "code",
   "execution_count": 3,
   "id": "0feae2c7",
   "metadata": {},
   "outputs": [
    {
     "data": {
      "text/html": [
       "<div>\n",
       "<style scoped>\n",
       "    .dataframe tbody tr th:only-of-type {\n",
       "        vertical-align: middle;\n",
       "    }\n",
       "\n",
       "    .dataframe tbody tr th {\n",
       "        vertical-align: top;\n",
       "    }\n",
       "\n",
       "    .dataframe thead th {\n",
       "        text-align: right;\n",
       "    }\n",
       "</style>\n",
       "<table border=\"1\" class=\"dataframe\">\n",
       "  <thead>\n",
       "    <tr style=\"text-align: right;\">\n",
       "      <th></th>\n",
       "      <th>region_area_</th>\n",
       "      <th>ph</th>\n",
       "      <th>Hardness</th>\n",
       "      <th>Solids</th>\n",
       "      <th>Chloramines</th>\n",
       "      <th>Sulfate</th>\n",
       "      <th>Conductivity</th>\n",
       "      <th>Organic_carbon</th>\n",
       "      <th>Trihalomethanes</th>\n",
       "      <th>Turbidity</th>\n",
       "      <th>Potability</th>\n",
       "    </tr>\n",
       "  </thead>\n",
       "  <tbody>\n",
       "    <tr>\n",
       "      <th>0</th>\n",
       "      <td>region_area_1</td>\n",
       "      <td>3.716080</td>\n",
       "      <td>180.196811</td>\n",
       "      <td>18630.36267</td>\n",
       "      <td>6.330435</td>\n",
       "      <td>NaN</td>\n",
       "      <td>602.990359</td>\n",
       "      <td>15.285013</td>\n",
       "      <td>56.444076</td>\n",
       "      <td>4.500656</td>\n",
       "      <td>0</td>\n",
       "    </tr>\n",
       "    <tr>\n",
       "      <th>1</th>\n",
       "      <td>region_area_100</td>\n",
       "      <td>4.270716</td>\n",
       "      <td>217.611599</td>\n",
       "      <td>24405.55535</td>\n",
       "      <td>7.086700</td>\n",
       "      <td>297.951852</td>\n",
       "      <td>359.623910</td>\n",
       "      <td>13.583526</td>\n",
       "      <td>54.589840</td>\n",
       "      <td>3.763906</td>\n",
       "      <td>0</td>\n",
       "    </tr>\n",
       "    <tr>\n",
       "      <th>2</th>\n",
       "      <td>region_area_1000</td>\n",
       "      <td>6.648849</td>\n",
       "      <td>232.462013</td>\n",
       "      <td>30733.80865</td>\n",
       "      <td>5.656462</td>\n",
       "      <td>344.670336</td>\n",
       "      <td>267.809179</td>\n",
       "      <td>17.863444</td>\n",
       "      <td>35.411181</td>\n",
       "      <td>4.827527</td>\n",
       "      <td>0</td>\n",
       "    </tr>\n",
       "    <tr>\n",
       "      <th>3</th>\n",
       "      <td>region_area_1001</td>\n",
       "      <td>NaN</td>\n",
       "      <td>261.753638</td>\n",
       "      <td>21174.71329</td>\n",
       "      <td>7.314074</td>\n",
       "      <td>NaN</td>\n",
       "      <td>582.848407</td>\n",
       "      <td>15.215849</td>\n",
       "      <td>90.367455</td>\n",
       "      <td>4.217553</td>\n",
       "      <td>0</td>\n",
       "    </tr>\n",
       "    <tr>\n",
       "      <th>4</th>\n",
       "      <td>region_area_1002</td>\n",
       "      <td>9.323584</td>\n",
       "      <td>263.484560</td>\n",
       "      <td>15751.48011</td>\n",
       "      <td>5.196259</td>\n",
       "      <td>297.593625</td>\n",
       "      <td>409.878704</td>\n",
       "      <td>10.727265</td>\n",
       "      <td>74.669285</td>\n",
       "      <td>3.006650</td>\n",
       "      <td>0</td>\n",
       "    </tr>\n",
       "  </tbody>\n",
       "</table>\n",
       "</div>"
      ],
      "text/plain": [
       "       region_area_        ph    Hardness       Solids  Chloramines  \\\n",
       "0     region_area_1  3.716080  180.196811  18630.36267     6.330435   \n",
       "1   region_area_100  4.270716  217.611599  24405.55535     7.086700   \n",
       "2  region_area_1000  6.648849  232.462013  30733.80865     5.656462   \n",
       "3  region_area_1001       NaN  261.753638  21174.71329     7.314074   \n",
       "4  region_area_1002  9.323584  263.484560  15751.48011     5.196259   \n",
       "\n",
       "      Sulfate  Conductivity  Organic_carbon  Trihalomethanes  Turbidity  \\\n",
       "0         NaN    602.990359       15.285013        56.444076   4.500656   \n",
       "1  297.951852    359.623910       13.583526        54.589840   3.763906   \n",
       "2  344.670336    267.809179       17.863444        35.411181   4.827527   \n",
       "3         NaN    582.848407       15.215849        90.367455   4.217553   \n",
       "4  297.593625    409.878704       10.727265        74.669285   3.006650   \n",
       "\n",
       "   Potability  \n",
       "0           0  \n",
       "1           0  \n",
       "2           0  \n",
       "3           0  \n",
       "4           0  "
      ]
     },
     "execution_count": 3,
     "metadata": {},
     "output_type": "execute_result"
    }
   ],
   "source": [
    "df.head()\n"
   ]
  },
  {
   "cell_type": "code",
   "execution_count": 4,
   "id": "2e5f2160",
   "metadata": {},
   "outputs": [
    {
     "data": {
      "text/html": [
       "<div>\n",
       "<style scoped>\n",
       "    .dataframe tbody tr th:only-of-type {\n",
       "        vertical-align: middle;\n",
       "    }\n",
       "\n",
       "    .dataframe tbody tr th {\n",
       "        vertical-align: top;\n",
       "    }\n",
       "\n",
       "    .dataframe thead th {\n",
       "        text-align: right;\n",
       "    }\n",
       "</style>\n",
       "<table border=\"1\" class=\"dataframe\">\n",
       "  <thead>\n",
       "    <tr style=\"text-align: right;\">\n",
       "      <th></th>\n",
       "      <th>ph</th>\n",
       "      <th>Hardness</th>\n",
       "      <th>Solids</th>\n",
       "      <th>Chloramines</th>\n",
       "      <th>Sulfate</th>\n",
       "      <th>Conductivity</th>\n",
       "      <th>Organic_carbon</th>\n",
       "      <th>Trihalomethanes</th>\n",
       "      <th>Turbidity</th>\n",
       "      <th>Potability</th>\n",
       "    </tr>\n",
       "  </thead>\n",
       "  <tbody>\n",
       "    <tr>\n",
       "      <th>count</th>\n",
       "      <td>2364.000000</td>\n",
       "      <td>2765.000000</td>\n",
       "      <td>2765.000000</td>\n",
       "      <td>2765.000000</td>\n",
       "      <td>2088.000000</td>\n",
       "      <td>2765.000000</td>\n",
       "      <td>2765.000000</td>\n",
       "      <td>2632.000000</td>\n",
       "      <td>2765.000000</td>\n",
       "      <td>2765.000000</td>\n",
       "    </tr>\n",
       "    <tr>\n",
       "      <th>mean</th>\n",
       "      <td>7.079240</td>\n",
       "      <td>247.238244</td>\n",
       "      <td>22124.120348</td>\n",
       "      <td>6.844630</td>\n",
       "      <td>334.442497</td>\n",
       "      <td>436.808964</td>\n",
       "      <td>14.372651</td>\n",
       "      <td>66.440727</td>\n",
       "      <td>3.974448</td>\n",
       "      <td>0.500181</td>\n",
       "    </tr>\n",
       "    <tr>\n",
       "      <th>std</th>\n",
       "      <td>1.597662</td>\n",
       "      <td>34.078090</td>\n",
       "      <td>8904.559976</td>\n",
       "      <td>1.622838</td>\n",
       "      <td>43.370116</td>\n",
       "      <td>80.493189</td>\n",
       "      <td>3.301153</td>\n",
       "      <td>16.298227</td>\n",
       "      <td>0.773685</td>\n",
       "      <td>0.500090</td>\n",
       "    </tr>\n",
       "    <tr>\n",
       "      <th>min</th>\n",
       "      <td>0.000000</td>\n",
       "      <td>124.266124</td>\n",
       "      <td>321.247422</td>\n",
       "      <td>0.047189</td>\n",
       "      <td>129.745113</td>\n",
       "      <td>211.724737</td>\n",
       "      <td>4.476899</td>\n",
       "      <td>0.853000</td>\n",
       "      <td>1.450000</td>\n",
       "      <td>0.000000</td>\n",
       "    </tr>\n",
       "    <tr>\n",
       "      <th>25%</th>\n",
       "      <td>6.101642</td>\n",
       "      <td>226.756338</td>\n",
       "      <td>15597.945690</td>\n",
       "      <td>5.816653</td>\n",
       "      <td>306.924620</td>\n",
       "      <td>377.031293</td>\n",
       "      <td>12.170317</td>\n",
       "      <td>56.132816</td>\n",
       "      <td>3.450746</td>\n",
       "      <td>0.000000</td>\n",
       "    </tr>\n",
       "    <tr>\n",
       "      <th>50%</th>\n",
       "      <td>7.058746</td>\n",
       "      <td>247.673989</td>\n",
       "      <td>21145.280070</td>\n",
       "      <td>6.861923</td>\n",
       "      <td>333.879010</td>\n",
       "      <td>433.730649</td>\n",
       "      <td>14.340154</td>\n",
       "      <td>66.662677</td>\n",
       "      <td>3.969740</td>\n",
       "      <td>1.000000</td>\n",
       "    </tr>\n",
       "    <tr>\n",
       "      <th>75%</th>\n",
       "      <td>8.065814</td>\n",
       "      <td>268.670663</td>\n",
       "      <td>27368.319150</td>\n",
       "      <td>7.854488</td>\n",
       "      <td>361.626832</td>\n",
       "      <td>492.550026</td>\n",
       "      <td>16.646561</td>\n",
       "      <td>77.416800</td>\n",
       "      <td>4.502138</td>\n",
       "      <td>1.000000</td>\n",
       "    </tr>\n",
       "    <tr>\n",
       "      <th>max</th>\n",
       "      <td>13.541240</td>\n",
       "      <td>373.897891</td>\n",
       "      <td>61227.500820</td>\n",
       "      <td>12.822189</td>\n",
       "      <td>481.775756</td>\n",
       "      <td>718.331364</td>\n",
       "      <td>28.405000</td>\n",
       "      <td>124.115000</td>\n",
       "      <td>6.739000</td>\n",
       "      <td>1.000000</td>\n",
       "    </tr>\n",
       "  </tbody>\n",
       "</table>\n",
       "</div>"
      ],
      "text/plain": [
       "                ph     Hardness        Solids  Chloramines      Sulfate  \\\n",
       "count  2364.000000  2765.000000   2765.000000  2765.000000  2088.000000   \n",
       "mean      7.079240   247.238244  22124.120348     6.844630   334.442497   \n",
       "std       1.597662    34.078090   8904.559976     1.622838    43.370116   \n",
       "min       0.000000   124.266124    321.247422     0.047189   129.745113   \n",
       "25%       6.101642   226.756338  15597.945690     5.816653   306.924620   \n",
       "50%       7.058746   247.673989  21145.280070     6.861923   333.879010   \n",
       "75%       8.065814   268.670663  27368.319150     7.854488   361.626832   \n",
       "max      13.541240   373.897891  61227.500820    12.822189   481.775756   \n",
       "\n",
       "       Conductivity  Organic_carbon  Trihalomethanes    Turbidity   Potability  \n",
       "count   2765.000000     2765.000000      2632.000000  2765.000000  2765.000000  \n",
       "mean     436.808964       14.372651        66.440727     3.974448     0.500181  \n",
       "std       80.493189        3.301153        16.298227     0.773685     0.500090  \n",
       "min      211.724737        4.476899         0.853000     1.450000     0.000000  \n",
       "25%      377.031293       12.170317        56.132816     3.450746     0.000000  \n",
       "50%      433.730649       14.340154        66.662677     3.969740     1.000000  \n",
       "75%      492.550026       16.646561        77.416800     4.502138     1.000000  \n",
       "max      718.331364       28.405000       124.115000     6.739000     1.000000  "
      ]
     },
     "execution_count": 4,
     "metadata": {},
     "output_type": "execute_result"
    }
   ],
   "source": [
    "df.describe()"
   ]
  },
  {
   "cell_type": "code",
   "execution_count": 5,
   "id": "cb71a0e0",
   "metadata": {},
   "outputs": [],
   "source": [
    "df.fillna(df.mean(), inplace=True)"
   ]
  },
  {
   "cell_type": "code",
   "execution_count": 6,
   "id": "13bc9951",
   "metadata": {},
   "outputs": [
    {
     "data": {
      "text/html": [
       "<div>\n",
       "<style scoped>\n",
       "    .dataframe tbody tr th:only-of-type {\n",
       "        vertical-align: middle;\n",
       "    }\n",
       "\n",
       "    .dataframe tbody tr th {\n",
       "        vertical-align: top;\n",
       "    }\n",
       "\n",
       "    .dataframe thead th {\n",
       "        text-align: right;\n",
       "    }\n",
       "</style>\n",
       "<table border=\"1\" class=\"dataframe\">\n",
       "  <thead>\n",
       "    <tr style=\"text-align: right;\">\n",
       "      <th></th>\n",
       "      <th>region_area_</th>\n",
       "      <th>ph</th>\n",
       "      <th>Hardness</th>\n",
       "      <th>Solids</th>\n",
       "      <th>Chloramines</th>\n",
       "      <th>Sulfate</th>\n",
       "      <th>Conductivity</th>\n",
       "      <th>Organic_carbon</th>\n",
       "      <th>Trihalomethanes</th>\n",
       "      <th>Turbidity</th>\n",
       "      <th>Potability</th>\n",
       "    </tr>\n",
       "  </thead>\n",
       "  <tbody>\n",
       "    <tr>\n",
       "      <th>0</th>\n",
       "      <td>region_area_1</td>\n",
       "      <td>3.716080</td>\n",
       "      <td>180.196811</td>\n",
       "      <td>18630.36267</td>\n",
       "      <td>6.330435</td>\n",
       "      <td>334.442497</td>\n",
       "      <td>602.990359</td>\n",
       "      <td>15.285013</td>\n",
       "      <td>56.444076</td>\n",
       "      <td>4.500656</td>\n",
       "      <td>0</td>\n",
       "    </tr>\n",
       "    <tr>\n",
       "      <th>1</th>\n",
       "      <td>region_area_100</td>\n",
       "      <td>4.270716</td>\n",
       "      <td>217.611599</td>\n",
       "      <td>24405.55535</td>\n",
       "      <td>7.086700</td>\n",
       "      <td>297.951852</td>\n",
       "      <td>359.623910</td>\n",
       "      <td>13.583526</td>\n",
       "      <td>54.589840</td>\n",
       "      <td>3.763906</td>\n",
       "      <td>0</td>\n",
       "    </tr>\n",
       "    <tr>\n",
       "      <th>2</th>\n",
       "      <td>region_area_1000</td>\n",
       "      <td>6.648849</td>\n",
       "      <td>232.462013</td>\n",
       "      <td>30733.80865</td>\n",
       "      <td>5.656462</td>\n",
       "      <td>344.670336</td>\n",
       "      <td>267.809179</td>\n",
       "      <td>17.863444</td>\n",
       "      <td>35.411181</td>\n",
       "      <td>4.827527</td>\n",
       "      <td>0</td>\n",
       "    </tr>\n",
       "    <tr>\n",
       "      <th>3</th>\n",
       "      <td>region_area_1001</td>\n",
       "      <td>7.079240</td>\n",
       "      <td>261.753638</td>\n",
       "      <td>21174.71329</td>\n",
       "      <td>7.314074</td>\n",
       "      <td>334.442497</td>\n",
       "      <td>582.848407</td>\n",
       "      <td>15.215849</td>\n",
       "      <td>90.367455</td>\n",
       "      <td>4.217553</td>\n",
       "      <td>0</td>\n",
       "    </tr>\n",
       "    <tr>\n",
       "      <th>4</th>\n",
       "      <td>region_area_1002</td>\n",
       "      <td>9.323584</td>\n",
       "      <td>263.484560</td>\n",
       "      <td>15751.48011</td>\n",
       "      <td>5.196259</td>\n",
       "      <td>297.593625</td>\n",
       "      <td>409.878704</td>\n",
       "      <td>10.727265</td>\n",
       "      <td>74.669285</td>\n",
       "      <td>3.006650</td>\n",
       "      <td>0</td>\n",
       "    </tr>\n",
       "  </tbody>\n",
       "</table>\n",
       "</div>"
      ],
      "text/plain": [
       "       region_area_        ph    Hardness       Solids  Chloramines  \\\n",
       "0     region_area_1  3.716080  180.196811  18630.36267     6.330435   \n",
       "1   region_area_100  4.270716  217.611599  24405.55535     7.086700   \n",
       "2  region_area_1000  6.648849  232.462013  30733.80865     5.656462   \n",
       "3  region_area_1001  7.079240  261.753638  21174.71329     7.314074   \n",
       "4  region_area_1002  9.323584  263.484560  15751.48011     5.196259   \n",
       "\n",
       "      Sulfate  Conductivity  Organic_carbon  Trihalomethanes  Turbidity  \\\n",
       "0  334.442497    602.990359       15.285013        56.444076   4.500656   \n",
       "1  297.951852    359.623910       13.583526        54.589840   3.763906   \n",
       "2  344.670336    267.809179       17.863444        35.411181   4.827527   \n",
       "3  334.442497    582.848407       15.215849        90.367455   4.217553   \n",
       "4  297.593625    409.878704       10.727265        74.669285   3.006650   \n",
       "\n",
       "   Potability  \n",
       "0           0  \n",
       "1           0  \n",
       "2           0  \n",
       "3           0  \n",
       "4           0  "
      ]
     },
     "execution_count": 6,
     "metadata": {},
     "output_type": "execute_result"
    }
   ],
   "source": [
    "df.head()"
   ]
  },
  {
   "cell_type": "code",
   "execution_count": 7,
   "id": "7b3a22d3",
   "metadata": {},
   "outputs": [
    {
     "data": {
      "text/html": [
       "<div>\n",
       "<style scoped>\n",
       "    .dataframe tbody tr th:only-of-type {\n",
       "        vertical-align: middle;\n",
       "    }\n",
       "\n",
       "    .dataframe tbody tr th {\n",
       "        vertical-align: top;\n",
       "    }\n",
       "\n",
       "    .dataframe thead th {\n",
       "        text-align: right;\n",
       "    }\n",
       "</style>\n",
       "<table border=\"1\" class=\"dataframe\">\n",
       "  <thead>\n",
       "    <tr style=\"text-align: right;\">\n",
       "      <th></th>\n",
       "      <th>ph</th>\n",
       "      <th>Hardness</th>\n",
       "      <th>Solids</th>\n",
       "      <th>Chloramines</th>\n",
       "      <th>Sulfate</th>\n",
       "      <th>Conductivity</th>\n",
       "      <th>Organic_carbon</th>\n",
       "      <th>Trihalomethanes</th>\n",
       "      <th>Turbidity</th>\n",
       "      <th>Potability</th>\n",
       "    </tr>\n",
       "  </thead>\n",
       "  <tbody>\n",
       "    <tr>\n",
       "      <th>count</th>\n",
       "      <td>2765.000000</td>\n",
       "      <td>2765.000000</td>\n",
       "      <td>2765.000000</td>\n",
       "      <td>2765.000000</td>\n",
       "      <td>2765.000000</td>\n",
       "      <td>2765.000000</td>\n",
       "      <td>2765.000000</td>\n",
       "      <td>2765.000000</td>\n",
       "      <td>2765.000000</td>\n",
       "      <td>2765.000000</td>\n",
       "    </tr>\n",
       "    <tr>\n",
       "      <th>mean</th>\n",
       "      <td>7.079240</td>\n",
       "      <td>247.238244</td>\n",
       "      <td>22124.120348</td>\n",
       "      <td>6.844630</td>\n",
       "      <td>334.442497</td>\n",
       "      <td>436.808964</td>\n",
       "      <td>14.372651</td>\n",
       "      <td>66.440727</td>\n",
       "      <td>3.974448</td>\n",
       "      <td>0.500181</td>\n",
       "    </tr>\n",
       "    <tr>\n",
       "      <th>std</th>\n",
       "      <td>1.477229</td>\n",
       "      <td>34.078090</td>\n",
       "      <td>8904.559976</td>\n",
       "      <td>1.622838</td>\n",
       "      <td>37.686238</td>\n",
       "      <td>80.493189</td>\n",
       "      <td>3.301153</td>\n",
       "      <td>15.901268</td>\n",
       "      <td>0.773685</td>\n",
       "      <td>0.500090</td>\n",
       "    </tr>\n",
       "    <tr>\n",
       "      <th>min</th>\n",
       "      <td>0.000000</td>\n",
       "      <td>124.266124</td>\n",
       "      <td>321.247422</td>\n",
       "      <td>0.047189</td>\n",
       "      <td>129.745113</td>\n",
       "      <td>211.724737</td>\n",
       "      <td>4.476899</td>\n",
       "      <td>0.853000</td>\n",
       "      <td>1.450000</td>\n",
       "      <td>0.000000</td>\n",
       "    </tr>\n",
       "    <tr>\n",
       "      <th>25%</th>\n",
       "      <td>6.268953</td>\n",
       "      <td>226.756338</td>\n",
       "      <td>15597.945690</td>\n",
       "      <td>5.816653</td>\n",
       "      <td>317.509520</td>\n",
       "      <td>377.031293</td>\n",
       "      <td>12.170317</td>\n",
       "      <td>56.914287</td>\n",
       "      <td>3.450746</td>\n",
       "      <td>0.000000</td>\n",
       "    </tr>\n",
       "    <tr>\n",
       "      <th>50%</th>\n",
       "      <td>7.079240</td>\n",
       "      <td>247.673989</td>\n",
       "      <td>21145.280070</td>\n",
       "      <td>6.861923</td>\n",
       "      <td>334.442497</td>\n",
       "      <td>433.730649</td>\n",
       "      <td>14.340154</td>\n",
       "      <td>66.440727</td>\n",
       "      <td>3.969740</td>\n",
       "      <td>1.000000</td>\n",
       "    </tr>\n",
       "    <tr>\n",
       "      <th>75%</th>\n",
       "      <td>7.885679</td>\n",
       "      <td>268.670663</td>\n",
       "      <td>27368.319150</td>\n",
       "      <td>7.854488</td>\n",
       "      <td>351.233052</td>\n",
       "      <td>492.550026</td>\n",
       "      <td>16.646561</td>\n",
       "      <td>76.772286</td>\n",
       "      <td>4.502138</td>\n",
       "      <td>1.000000</td>\n",
       "    </tr>\n",
       "    <tr>\n",
       "      <th>max</th>\n",
       "      <td>13.541240</td>\n",
       "      <td>373.897891</td>\n",
       "      <td>61227.500820</td>\n",
       "      <td>12.822189</td>\n",
       "      <td>481.775756</td>\n",
       "      <td>718.331364</td>\n",
       "      <td>28.405000</td>\n",
       "      <td>124.115000</td>\n",
       "      <td>6.739000</td>\n",
       "      <td>1.000000</td>\n",
       "    </tr>\n",
       "  </tbody>\n",
       "</table>\n",
       "</div>"
      ],
      "text/plain": [
       "                ph     Hardness        Solids  Chloramines      Sulfate  \\\n",
       "count  2765.000000  2765.000000   2765.000000  2765.000000  2765.000000   \n",
       "mean      7.079240   247.238244  22124.120348     6.844630   334.442497   \n",
       "std       1.477229    34.078090   8904.559976     1.622838    37.686238   \n",
       "min       0.000000   124.266124    321.247422     0.047189   129.745113   \n",
       "25%       6.268953   226.756338  15597.945690     5.816653   317.509520   \n",
       "50%       7.079240   247.673989  21145.280070     6.861923   334.442497   \n",
       "75%       7.885679   268.670663  27368.319150     7.854488   351.233052   \n",
       "max      13.541240   373.897891  61227.500820    12.822189   481.775756   \n",
       "\n",
       "       Conductivity  Organic_carbon  Trihalomethanes    Turbidity   Potability  \n",
       "count   2765.000000     2765.000000      2765.000000  2765.000000  2765.000000  \n",
       "mean     436.808964       14.372651        66.440727     3.974448     0.500181  \n",
       "std       80.493189        3.301153        15.901268     0.773685     0.500090  \n",
       "min      211.724737        4.476899         0.853000     1.450000     0.000000  \n",
       "25%      377.031293       12.170317        56.914287     3.450746     0.000000  \n",
       "50%      433.730649       14.340154        66.440727     3.969740     1.000000  \n",
       "75%      492.550026       16.646561        76.772286     4.502138     1.000000  \n",
       "max      718.331364       28.405000       124.115000     6.739000     1.000000  "
      ]
     },
     "execution_count": 7,
     "metadata": {},
     "output_type": "execute_result"
    }
   ],
   "source": [
    "df.describe()"
   ]
  },
  {
   "cell_type": "code",
   "execution_count": null,
   "id": "4e5275be",
   "metadata": {},
   "outputs": [],
   "source": []
  },
  {
   "cell_type": "code",
   "execution_count": 8,
   "id": "f00cf228",
   "metadata": {},
   "outputs": [
    {
     "data": {
      "text/plain": [
       "<AxesSubplot:xlabel='Potability', ylabel='count'>"
      ]
     },
     "execution_count": 8,
     "metadata": {},
     "output_type": "execute_result"
    },
    {
     "data": {
      "image/png": "[encoded data removed]",
      "text/plain": [
       "<Figure size 432x288 with 1 Axes>"
      ]
     },
     "metadata": {},
     "output_type": "display_data"
    }
   ],
   "source": [
    "sns.set_style('whitegrid')\n",
    "sns.countplot(x='Potability',data=df,palette='RdBu_r')"
   ]
  },
  {
   "cell_type": "code",
   "execution_count": 9,
   "id": "8e2067be",
   "metadata": {},
   "outputs": [
    {
     "data": {
      "image/png": "[encoded data removed]",
      "text/plain": [
       "<Figure size 432x288 with 1 Axes>"
      ]
     },
     "metadata": {},
     "output_type": "display_data"
    },
    {
     "data": {
      "image/png": "[encoded data removed]",
      "text/plain": [
       "<Figure size 432x288 with 1 Axes>"
      ]
     },
     "metadata": {},
     "output_type": "display_data"
    },
    {
     "data": {
      "image/png": "[encoded data removed]",
      "text/plain": [
       "<Figure size 432x288 with 1 Axes>"
      ]
     },
     "metadata": {},
     "output_type": "display_data"
    },
    {
     "data": {
      "image/png": "[encoded data removed]",
      "text/plain": [
       "<Figure size 432x288 with 1 Axes>"
      ]
     },
     "metadata": {},
     "output_type": "display_data"
    },
    {
     "data": {
      "image/png": "[encoded data removed]",
      "text/plain": [
       "<Figure size 432x288 with 1 Axes>"
      ]
     },
     "metadata": {},
     "output_type": "display_data"
    },
    {
     "data": {
      "image/png": "[encoded data removed]",
      "text/plain": [
       "<Figure size 432x288 with 1 Axes>"
      ]
     },
     "metadata": {},
     "output_type": "display_data"
    },
    {
     "data": {
      "image/png": "[encoded data removed]",
      "text/plain": [
       "<Figure size 432x288 with 1 Axes>"
      ]
     },
     "metadata": {},
     "output_type": "display_data"
    },
    {
     "data": {
      "image/png": "[encoded data removed]",
      "text/plain": [
       "<Figure size 432x288 with 1 Axes>"
      ]
     },
     "metadata": {},
     "output_type": "display_data"
    },
    {
     "data": {
      "image/png": "[encoded data removed]",
      "text/plain": [
       "<Figure size 432x288 with 1 Axes>"
      ]
     },
     "metadata": {},
     "output_type": "display_data"
    },
    {
     "data": {
      "text/plain": [
       "<Figure size 432x288 with 0 Axes>"
      ]
     },
     "metadata": {},
     "output_type": "display_data"
    }
   ],
   "source": [
    "l=list(df.columns[0:10])\n",
    "for i in range(len(l)-1):\n",
    "    sns.boxplot(x='Potability',y=l[i], data=df, palette='winter')\n",
    "    plt.figure()"
   ]
  },
  {
   "cell_type": "code",
   "execution_count": 41,
   "id": "cebc31d5",
   "metadata": {},
   "outputs": [
    {
     "data": {
      "text/html": [
       "<div>\n",
       "<style scoped>\n",
       "    .dataframe tbody tr th:only-of-type {\n",
       "        vertical-align: middle;\n",
       "    }\n",
       "\n",
       "    .dataframe tbody tr th {\n",
       "        vertical-align: top;\n",
       "    }\n",
       "\n",
       "    .dataframe thead th {\n",
       "        text-align: right;\n",
       "    }\n",
       "</style>\n",
       "<table border=\"1\" class=\"dataframe\">\n",
       "  <thead>\n",
       "    <tr style=\"text-align: right;\">\n",
       "      <th></th>\n",
       "      <th>ph</th>\n",
       "      <th>Hardness</th>\n",
       "      <th>Solids</th>\n",
       "      <th>Chloramines</th>\n",
       "      <th>Sulfate</th>\n",
       "      <th>Conductivity</th>\n",
       "      <th>Organic_carbon</th>\n",
       "      <th>Trihalomethanes</th>\n",
       "      <th>Turbidity</th>\n",
       "    </tr>\n",
       "  </thead>\n",
       "  <tbody>\n",
       "    <tr>\n",
       "      <th>0</th>\n",
       "      <td>3.716080</td>\n",
       "      <td>180.196811</td>\n",
       "      <td>18630.36267</td>\n",
       "      <td>6.330435</td>\n",
       "      <td>334.442497</td>\n",
       "      <td>602.990359</td>\n",
       "      <td>15.285013</td>\n",
       "      <td>56.444076</td>\n",
       "      <td>4.500656</td>\n",
       "    </tr>\n",
       "    <tr>\n",
       "      <th>1</th>\n",
       "      <td>4.270716</td>\n",
       "      <td>217.611599</td>\n",
       "      <td>24405.55535</td>\n",
       "      <td>7.086700</td>\n",
       "      <td>297.951852</td>\n",
       "      <td>359.623910</td>\n",
       "      <td>13.583526</td>\n",
       "      <td>54.589840</td>\n",
       "      <td>3.763906</td>\n",
       "    </tr>\n",
       "    <tr>\n",
       "      <th>2</th>\n",
       "      <td>6.648849</td>\n",
       "      <td>232.462013</td>\n",
       "      <td>30733.80865</td>\n",
       "      <td>5.656462</td>\n",
       "      <td>344.670336</td>\n",
       "      <td>267.809179</td>\n",
       "      <td>17.863444</td>\n",
       "      <td>35.411181</td>\n",
       "      <td>4.827527</td>\n",
       "    </tr>\n",
       "    <tr>\n",
       "      <th>3</th>\n",
       "      <td>7.079240</td>\n",
       "      <td>261.753638</td>\n",
       "      <td>21174.71329</td>\n",
       "      <td>7.314074</td>\n",
       "      <td>334.442497</td>\n",
       "      <td>582.848407</td>\n",
       "      <td>15.215849</td>\n",
       "      <td>90.367455</td>\n",
       "      <td>4.217553</td>\n",
       "    </tr>\n",
       "    <tr>\n",
       "      <th>4</th>\n",
       "      <td>9.323584</td>\n",
       "      <td>263.484560</td>\n",
       "      <td>15751.48011</td>\n",
       "      <td>5.196259</td>\n",
       "      <td>297.593625</td>\n",
       "      <td>409.878704</td>\n",
       "      <td>10.727265</td>\n",
       "      <td>74.669285</td>\n",
       "      <td>3.006650</td>\n",
       "    </tr>\n",
       "  </tbody>\n",
       "</table>\n",
       "</div>"
      ],
      "text/plain": [
       "         ph    Hardness       Solids  Chloramines     Sulfate  Conductivity  \\\n",
       "0  3.716080  180.196811  18630.36267     6.330435  334.442497    602.990359   \n",
       "1  4.270716  217.611599  24405.55535     7.086700  297.951852    359.623910   \n",
       "2  6.648849  232.462013  30733.80865     5.656462  344.670336    267.809179   \n",
       "3  7.079240  261.753638  21174.71329     7.314074  334.442497    582.848407   \n",
       "4  9.323584  263.484560  15751.48011     5.196259  297.593625    409.878704   \n",
       "\n",
       "   Organic_carbon  Trihalomethanes  Turbidity  \n",
       "0       15.285013        56.444076   4.500656  \n",
       "1       13.583526        54.589840   3.763906  \n",
       "2       17.863444        35.411181   4.827527  \n",
       "3       15.215849        90.367455   4.217553  \n",
       "4       10.727265        74.669285   3.006650  "
      ]
     },
     "execution_count": 41,
     "metadata": {},
     "output_type": "execute_result"
    }
   ],
   "source": [
    "df_1 = df.drop('Potability',axis=1) # Define a dataframe with only features\n",
    "df_feat = df_1.drop('region_area_',axis=1) # Define a dataframe with only features\n",
    "df_feat.head()"
   ]
  },
  {
   "cell_type": "code",
   "execution_count": 42,
   "id": "9c12cae8",
   "metadata": {},
   "outputs": [
    {
     "data": {
      "text/plain": [
       "0    0\n",
       "1    0\n",
       "2    0\n",
       "3    0\n",
       "4    0\n",
       "Name: Potability, dtype: int64"
      ]
     },
     "execution_count": 42,
     "metadata": {},
     "output_type": "execute_result"
    }
   ],
   "source": [
    "df_target = df['Potability'] # Define a dataframe with only target results i.e. cancer detections\n",
    "df_target.head()"
   ]
  },
  {
   "cell_type": "code",
   "execution_count": 43,
   "id": "f8ed36cf",
   "metadata": {},
   "outputs": [],
   "source": [
    "from sklearn.model_selection import train_test_split\n",
    "X_train, X_test, y_train, y_test = train_test_split(df_feat, df_target, test_size=0.30, random_state=101)"
   ]
  },
  {
   "cell_type": "code",
   "execution_count": 44,
   "id": "da793d04",
   "metadata": {},
   "outputs": [
    {
     "data": {
      "text/plain": [
       "2006    1\n",
       "2365    0\n",
       "1295    0\n",
       "2157    1\n",
       "1907    1\n",
       "Name: Potability, dtype: int64"
      ]
     },
     "execution_count": 44,
     "metadata": {},
     "output_type": "execute_result"
    }
   ],
   "source": [
    "y_train.head()"
   ]
  },
  {
   "cell_type": "code",
   "execution_count": 45,
   "id": "040aa1cd",
   "metadata": {},
   "outputs": [],
   "source": [
    "from sklearn.svm import SVC"
   ]
  },
  {
   "cell_type": "code",
   "execution_count": 46,
   "id": "24cd4548",
   "metadata": {},
   "outputs": [],
   "source": [
    "model = SVC()"
   ]
  },
  {
   "cell_type": "code",
   "execution_count": 47,
   "id": "deb40840",
   "metadata": {},
   "outputs": [
    {
     "data": {
      "text/plain": [
       "SVC()"
      ]
     },
     "execution_count": 47,
     "metadata": {},
     "output_type": "execute_result"
    }
   ],
   "source": [
    "model.fit(X_train,y_train)"
   ]
  },
  {
   "cell_type": "code",
   "execution_count": 48,
   "id": "4ba78c92",
   "metadata": {},
   "outputs": [],
   "source": [
    "predictions = model.predict(X_test)"
   ]
  },
  {
   "cell_type": "code",
   "execution_count": 49,
   "id": "87b73f6d",
   "metadata": {},
   "outputs": [],
   "source": [
    "from sklearn.metrics import classification_report,confusion_matrix"
   ]
  },
  {
   "cell_type": "code",
   "execution_count": 50,
   "id": "1ce4b98e",
   "metadata": {},
   "outputs": [
    {
     "name": "stdout",
     "output_type": "stream",
     "text": [
      "[[  0 440]\n",
      " [  0 390]]\n"
     ]
    }
   ],
   "source": [
    "print(confusion_matrix(y_test,predictions))"
   ]
  },
  {
   "cell_type": "code",
   "execution_count": 51,
   "id": "8128bff9",
   "metadata": {},
   "outputs": [
    {
     "name": "stdout",
     "output_type": "stream",
     "text": [
      "              precision    recall  f1-score   support\n",
      "\n",
      "           0       0.00      0.00      0.00       440\n",
      "           1       0.47      1.00      0.64       390\n",
      "\n",
      "    accuracy                           0.47       830\n",
      "   macro avg       0.23      0.50      0.32       830\n",
      "weighted avg       0.22      0.47      0.30       830\n",
      "\n"
     ]
    },
    {
     "name": "stderr",
     "output_type": "stream",
     "text": [
      "C:\\Users\\07062962468\\Anaconda3\\lib\\site-packages\\sklearn\\metrics\\_classification.py:1245: UndefinedMetricWarning: Precision and F-score are ill-defined and being set to 0.0 in labels with no predicted samples. Use `zero_division` parameter to control this behavior.\n",
      "  _warn_prf(average, modifier, msg_start, len(result))\n",
      "C:\\Users\\07062962468\\Anaconda3\\lib\\site-packages\\sklearn\\metrics\\_classification.py:1245: UndefinedMetricWarning: Precision and F-score are ill-defined and being set to 0.0 in labels with no predicted samples. Use `zero_division` parameter to control this behavior.\n",
      "  _warn_prf(average, modifier, msg_start, len(result))\n",
      "C:\\Users\\07062962468\\Anaconda3\\lib\\site-packages\\sklearn\\metrics\\_classification.py:1245: UndefinedMetricWarning: Precision and F-score are ill-defined and being set to 0.0 in labels with no predicted samples. Use `zero_division` parameter to control this behavior.\n",
      "  _warn_prf(average, modifier, msg_start, len(result))\n"
     ]
    }
   ],
   "source": [
    "print(classification_report(y_test,predictions))"
   ]
  },
  {
   "cell_type": "code",
   "execution_count": 52,
   "id": "3f5c27e8",
   "metadata": {},
   "outputs": [],
   "source": [
    "param_grid = {'C': [0.1,1, 10, 100, 1000], 'gamma': [1,0.1,0.01,0.001,0.0001], 'kernel': ['rbf']} "
   ]
  },
  {
   "cell_type": "code",
   "execution_count": 53,
   "id": "c9c6c43f",
   "metadata": {},
   "outputs": [],
   "source": [
    "from sklearn.model_selection import GridSearchCV"
   ]
  },
  {
   "cell_type": "code",
   "execution_count": 54,
   "id": "50970e4c",
   "metadata": {},
   "outputs": [],
   "source": [
    "grid = GridSearchCV(SVC(),param_grid,refit=True,verbose=1)"
   ]
  },
  {
   "cell_type": "code",
   "execution_count": 55,
   "id": "65c572cb",
   "metadata": {},
   "outputs": [
    {
     "name": "stdout",
     "output_type": "stream",
     "text": [
      "Fitting 5 folds for each of 25 candidates, totalling 125 fits\n"
     ]
    },
    {
     "data": {
      "text/plain": [
       "GridSearchCV(estimator=SVC(),\n",
       "             param_grid={'C': [0.1, 1, 10, 100, 1000],\n",
       "                         'gamma': [1, 0.1, 0.01, 0.001, 0.0001],\n",
       "                         'kernel': ['rbf']},\n",
       "             verbose=1)"
      ]
     },
     "execution_count": 55,
     "metadata": {},
     "output_type": "execute_result"
    }
   ],
   "source": [
    "grid.fit(X_train,y_train)"
   ]
  },
  {
   "cell_type": "code",
   "execution_count": 56,
   "id": "f2ad8eb0",
   "metadata": {},
   "outputs": [
    {
     "data": {
      "text/plain": [
       "{'C': 1, 'gamma': 1, 'kernel': 'rbf'}"
      ]
     },
     "execution_count": 56,
     "metadata": {},
     "output_type": "execute_result"
    }
   ],
   "source": [
    "grid.best_params_"
   ]
  },
  {
   "cell_type": "code",
   "execution_count": 57,
   "id": "be5321e9",
   "metadata": {},
   "outputs": [
    {
     "data": {
      "text/plain": [
       "SVC(C=1, gamma=1)"
      ]
     },
     "execution_count": 57,
     "metadata": {},
     "output_type": "execute_result"
    }
   ],
   "source": [
    "grid.best_estimator_"
   ]
  },
  {
   "cell_type": "code",
   "execution_count": 58,
   "id": "a038becd",
   "metadata": {},
   "outputs": [],
   "source": [
    "grid_predictions = grid.predict(X_test)"
   ]
  },
  {
   "cell_type": "code",
   "execution_count": 59,
   "id": "37482c3b",
   "metadata": {},
   "outputs": [
    {
     "name": "stdout",
     "output_type": "stream",
     "text": [
      "[[440   0]\n",
      " [186 204]]\n"
     ]
    }
   ],
   "source": [
    "print(confusion_matrix(y_test,grid_predictions))"
   ]
  },
  {
   "cell_type": "code",
   "execution_count": 60,
   "id": "22ce94c0",
   "metadata": {},
   "outputs": [
    {
     "name": "stdout",
     "output_type": "stream",
     "text": [
      "              precision    recall  f1-score   support\n",
      "\n",
      "           0       0.70      1.00      0.83       440\n",
      "           1       1.00      0.52      0.69       390\n",
      "\n",
      "    accuracy                           0.78       830\n",
      "   macro avg       0.85      0.76      0.76       830\n",
      "weighted avg       0.84      0.78      0.76       830\n",
      "\n"
     ]
    }
   ],
   "source": [
    "print(classification_report(y_test,grid_predictions))"
   ]
  },
  {
   "cell_type": "code",
   "execution_count": 61,
   "id": "1b29049a",
   "metadata": {},
   "outputs": [
    {
     "name": "stdout",
     "output_type": "stream",
     "text": [
      "Fitting 5 folds for each of 25 candidates, totalling 125 fits\n"
     ]
    },
    {
     "data": {
      "text/plain": [
       "GridSearchCV(estimator=SVC(tol=1e-05),\n",
       "             param_grid={'C': [50, 75, 100, 125, 150],\n",
       "                         'gamma': [0.01, 0.001, 0.0001, 1e-05, 1e-06],\n",
       "                         'kernel': ['rbf']},\n",
       "             verbose=1)"
      ]
     },
     "execution_count": 61,
     "metadata": {},
     "output_type": "execute_result"
    }
   ],
   "source": [
    "param_grid = {'C': [50,75,100,125,150], 'gamma': [1e-2,1e-3,1e-4,1e-5,1e-6], 'kernel': ['rbf']} \n",
    "grid = GridSearchCV(SVC(tol=1e-5),param_grid,refit=True,verbose=1)\n",
    "grid.fit(X_train,y_train)"
   ]
  },
  {
   "cell_type": "code",
   "execution_count": 62,
   "id": "2b75f46e",
   "metadata": {},
   "outputs": [
    {
     "data": {
      "text/plain": [
       "SVC(C=50, gamma=0.01, tol=1e-05)"
      ]
     },
     "execution_count": 62,
     "metadata": {},
     "output_type": "execute_result"
    }
   ],
   "source": [
    "grid.best_estimator_"
   ]
  },
  {
   "cell_type": "code",
   "execution_count": 63,
   "id": "238bcb30",
   "metadata": {},
   "outputs": [
    {
     "name": "stdout",
     "output_type": "stream",
     "text": [
      "[[440   0]\n",
      " [186 204]]\n"
     ]
    }
   ],
   "source": [
    "grid_predictions = grid.predict(X_test)\n",
    "print(confusion_matrix(y_test,grid_predictions))"
   ]
  },
  {
   "cell_type": "code",
   "execution_count": 64,
   "id": "9c2559c7",
   "metadata": {},
   "outputs": [],
   "source": [
    "test = pd.read_csv('test.csv')"
   ]
  },
  {
   "cell_type": "code",
   "execution_count": 65,
   "id": "7969d0ee",
   "metadata": {},
   "outputs": [
    {
     "data": {
      "text/html": [
       "<div>\n",
       "<style scoped>\n",
       "    .dataframe tbody tr th:only-of-type {\n",
       "        vertical-align: middle;\n",
       "    }\n",
       "\n",
       "    .dataframe tbody tr th {\n",
       "        vertical-align: top;\n",
       "    }\n",
       "\n",
       "    .dataframe thead th {\n",
       "        text-align: right;\n",
       "    }\n",
       "</style>\n",
       "<table border=\"1\" class=\"dataframe\">\n",
       "  <thead>\n",
       "    <tr style=\"text-align: right;\">\n",
       "      <th></th>\n",
       "      <th>region_area_</th>\n",
       "      <th>ph</th>\n",
       "      <th>Hardness</th>\n",
       "      <th>Solids</th>\n",
       "      <th>Chloramines</th>\n",
       "      <th>Sulfate</th>\n",
       "      <th>Conductivity</th>\n",
       "      <th>Organic_carbon</th>\n",
       "      <th>Trihalomethanes</th>\n",
       "      <th>Turbidity</th>\n",
       "    </tr>\n",
       "  </thead>\n",
       "  <tbody>\n",
       "    <tr>\n",
       "      <th>0</th>\n",
       "      <td>region_area_0</td>\n",
       "      <td>NaN</td>\n",
       "      <td>255.664346</td>\n",
       "      <td>20791.623791</td>\n",
       "      <td>6.995401</td>\n",
       "      <td>369.261555</td>\n",
       "      <td>574.413654</td>\n",
       "      <td>10.484783</td>\n",
       "      <td>87.105970</td>\n",
       "      <td>2.963135</td>\n",
       "    </tr>\n",
       "    <tr>\n",
       "      <th>1</th>\n",
       "      <td>region_area_10</td>\n",
       "      <td>7.360640</td>\n",
       "      <td>216.294688</td>\n",
       "      <td>32452.919220</td>\n",
       "      <td>7.245890</td>\n",
       "      <td>327.369467</td>\n",
       "      <td>435.488419</td>\n",
       "      <td>15.691810</td>\n",
       "      <td>78.855016</td>\n",
       "      <td>3.662292</td>\n",
       "    </tr>\n",
       "    <tr>\n",
       "      <th>2</th>\n",
       "      <td>region_area_1006</td>\n",
       "      <td>7.230845</td>\n",
       "      <td>228.348694</td>\n",
       "      <td>17864.994196</td>\n",
       "      <td>5.513418</td>\n",
       "      <td>344.338446</td>\n",
       "      <td>377.794992</td>\n",
       "      <td>20.017950</td>\n",
       "      <td>59.418053</td>\n",
       "      <td>5.622018</td>\n",
       "    </tr>\n",
       "    <tr>\n",
       "      <th>3</th>\n",
       "      <td>region_area_1010</td>\n",
       "      <td>4.797460</td>\n",
       "      <td>241.089018</td>\n",
       "      <td>21280.551369</td>\n",
       "      <td>5.883692</td>\n",
       "      <td>327.539307</td>\n",
       "      <td>367.541193</td>\n",
       "      <td>11.818821</td>\n",
       "      <td>63.978068</td>\n",
       "      <td>4.038503</td>\n",
       "    </tr>\n",
       "    <tr>\n",
       "      <th>4</th>\n",
       "      <td>region_area_1011</td>\n",
       "      <td>9.319176</td>\n",
       "      <td>250.107456</td>\n",
       "      <td>14294.545161</td>\n",
       "      <td>7.480130</td>\n",
       "      <td>366.796865</td>\n",
       "      <td>348.546450</td>\n",
       "      <td>15.320293</td>\n",
       "      <td>63.506468</td>\n",
       "      <td>4.129230</td>\n",
       "    </tr>\n",
       "  </tbody>\n",
       "</table>\n",
       "</div>"
      ],
      "text/plain": [
       "       region_area_        ph    Hardness        Solids  Chloramines  \\\n",
       "0     region_area_0       NaN  255.664346  20791.623791     6.995401   \n",
       "1    region_area_10  7.360640  216.294688  32452.919220     7.245890   \n",
       "2  region_area_1006  7.230845  228.348694  17864.994196     5.513418   \n",
       "3  region_area_1010  4.797460  241.089018  21280.551369     5.883692   \n",
       "4  region_area_1011  9.319176  250.107456  14294.545161     7.480130   \n",
       "\n",
       "      Sulfate  Conductivity  Organic_carbon  Trihalomethanes  Turbidity  \n",
       "0  369.261555    574.413654       10.484783        87.105970   2.963135  \n",
       "1  327.369467    435.488419       15.691810        78.855016   3.662292  \n",
       "2  344.338446    377.794992       20.017950        59.418053   5.622018  \n",
       "3  327.539307    367.541193       11.818821        63.978068   4.038503  \n",
       "4  366.796865    348.546450       15.320293        63.506468   4.129230  "
      ]
     },
     "execution_count": 65,
     "metadata": {},
     "output_type": "execute_result"
    }
   ],
   "source": [
    "test.head()"
   ]
  },
  {
   "cell_type": "code",
   "execution_count": 66,
   "id": "79a783d2",
   "metadata": {},
   "outputs": [],
   "source": [
    "test.fillna(df.mean(), inplace=True)"
   ]
  },
  {
   "cell_type": "code",
   "execution_count": 67,
   "id": "89ef4683",
   "metadata": {},
   "outputs": [
    {
     "data": {
      "text/html": [
       "<div>\n",
       "<style scoped>\n",
       "    .dataframe tbody tr th:only-of-type {\n",
       "        vertical-align: middle;\n",
       "    }\n",
       "\n",
       "    .dataframe tbody tr th {\n",
       "        vertical-align: top;\n",
       "    }\n",
       "\n",
       "    .dataframe thead th {\n",
       "        text-align: right;\n",
       "    }\n",
       "</style>\n",
       "<table border=\"1\" class=\"dataframe\">\n",
       "  <thead>\n",
       "    <tr style=\"text-align: right;\">\n",
       "      <th></th>\n",
       "      <th>region_area_</th>\n",
       "      <th>ph</th>\n",
       "      <th>Hardness</th>\n",
       "      <th>Solids</th>\n",
       "      <th>Chloramines</th>\n",
       "      <th>Sulfate</th>\n",
       "      <th>Conductivity</th>\n",
       "      <th>Organic_carbon</th>\n",
       "      <th>Trihalomethanes</th>\n",
       "      <th>Turbidity</th>\n",
       "    </tr>\n",
       "  </thead>\n",
       "  <tbody>\n",
       "    <tr>\n",
       "      <th>0</th>\n",
       "      <td>region_area_0</td>\n",
       "      <td>7.079240</td>\n",
       "      <td>255.664346</td>\n",
       "      <td>20791.623791</td>\n",
       "      <td>6.995401</td>\n",
       "      <td>369.261555</td>\n",
       "      <td>574.413654</td>\n",
       "      <td>10.484783</td>\n",
       "      <td>87.105970</td>\n",
       "      <td>2.963135</td>\n",
       "    </tr>\n",
       "    <tr>\n",
       "      <th>1</th>\n",
       "      <td>region_area_10</td>\n",
       "      <td>7.360640</td>\n",
       "      <td>216.294688</td>\n",
       "      <td>32452.919220</td>\n",
       "      <td>7.245890</td>\n",
       "      <td>327.369467</td>\n",
       "      <td>435.488419</td>\n",
       "      <td>15.691810</td>\n",
       "      <td>78.855016</td>\n",
       "      <td>3.662292</td>\n",
       "    </tr>\n",
       "    <tr>\n",
       "      <th>2</th>\n",
       "      <td>region_area_1006</td>\n",
       "      <td>7.230845</td>\n",
       "      <td>228.348694</td>\n",
       "      <td>17864.994196</td>\n",
       "      <td>5.513418</td>\n",
       "      <td>344.338446</td>\n",
       "      <td>377.794992</td>\n",
       "      <td>20.017950</td>\n",
       "      <td>59.418053</td>\n",
       "      <td>5.622018</td>\n",
       "    </tr>\n",
       "    <tr>\n",
       "      <th>3</th>\n",
       "      <td>region_area_1010</td>\n",
       "      <td>4.797460</td>\n",
       "      <td>241.089018</td>\n",
       "      <td>21280.551369</td>\n",
       "      <td>5.883692</td>\n",
       "      <td>327.539307</td>\n",
       "      <td>367.541193</td>\n",
       "      <td>11.818821</td>\n",
       "      <td>63.978068</td>\n",
       "      <td>4.038503</td>\n",
       "    </tr>\n",
       "    <tr>\n",
       "      <th>4</th>\n",
       "      <td>region_area_1011</td>\n",
       "      <td>9.319176</td>\n",
       "      <td>250.107456</td>\n",
       "      <td>14294.545161</td>\n",
       "      <td>7.480130</td>\n",
       "      <td>366.796865</td>\n",
       "      <td>348.546450</td>\n",
       "      <td>15.320293</td>\n",
       "      <td>63.506468</td>\n",
       "      <td>4.129230</td>\n",
       "    </tr>\n",
       "  </tbody>\n",
       "</table>\n",
       "</div>"
      ],
      "text/plain": [
       "       region_area_        ph    Hardness        Solids  Chloramines  \\\n",
       "0     region_area_0  7.079240  255.664346  20791.623791     6.995401   \n",
       "1    region_area_10  7.360640  216.294688  32452.919220     7.245890   \n",
       "2  region_area_1006  7.230845  228.348694  17864.994196     5.513418   \n",
       "3  region_area_1010  4.797460  241.089018  21280.551369     5.883692   \n",
       "4  region_area_1011  9.319176  250.107456  14294.545161     7.480130   \n",
       "\n",
       "      Sulfate  Conductivity  Organic_carbon  Trihalomethanes  Turbidity  \n",
       "0  369.261555    574.413654       10.484783        87.105970   2.963135  \n",
       "1  327.369467    435.488419       15.691810        78.855016   3.662292  \n",
       "2  344.338446    377.794992       20.017950        59.418053   5.622018  \n",
       "3  327.539307    367.541193       11.818821        63.978068   4.038503  \n",
       "4  366.796865    348.546450       15.320293        63.506468   4.129230  "
      ]
     },
     "execution_count": 67,
     "metadata": {},
     "output_type": "execute_result"
    }
   ],
   "source": [
    "test.head()"
   ]
  },
  {
   "cell_type": "code",
   "execution_count": 68,
   "id": "d15031fa",
   "metadata": {},
   "outputs": [],
   "source": [
    "test_target = test.drop('region_area_',axis=1)"
   ]
  },
  {
   "cell_type": "code",
   "execution_count": 117,
   "id": "48f5ef44",
   "metadata": {},
   "outputs": [],
   "source": [
    "grid_predictions = grid.predict(test_target)"
   ]
  },
  {
   "cell_type": "code",
   "execution_count": 115,
   "id": "ffbf63c3",
   "metadata": {},
   "outputs": [
    {
     "data": {
      "text/plain": [
       "array([0, 0, 0, ..., 0, 0, 0], dtype=int64)"
      ]
     },
     "execution_count": 115,
     "metadata": {},
     "output_type": "execute_result"
    }
   ],
   "source": [
    "grid_predictions"
   ]
  },
  {
   "cell_type": "code",
   "execution_count": 76,
   "id": "2d08690a",
   "metadata": {},
   "outputs": [],
   "source": [
    "test['Potability'] = grid_predictions"
   ]
  },
  {
   "cell_type": "code",
   "execution_count": 77,
   "id": "c2e59407",
   "metadata": {},
   "outputs": [
    {
     "data": {
      "text/html": [
       "<div>\n",
       "<style scoped>\n",
       "    .dataframe tbody tr th:only-of-type {\n",
       "        vertical-align: middle;\n",
       "    }\n",
       "\n",
       "    .dataframe tbody tr th {\n",
       "        vertical-align: top;\n",
       "    }\n",
       "\n",
       "    .dataframe thead th {\n",
       "        text-align: right;\n",
       "    }\n",
       "</style>\n",
       "<table border=\"1\" class=\"dataframe\">\n",
       "  <thead>\n",
       "    <tr style=\"text-align: right;\">\n",
       "      <th></th>\n",
       "      <th>region_area_</th>\n",
       "      <th>ph</th>\n",
       "      <th>Hardness</th>\n",
       "      <th>Solids</th>\n",
       "      <th>Chloramines</th>\n",
       "      <th>Sulfate</th>\n",
       "      <th>Conductivity</th>\n",
       "      <th>Organic_carbon</th>\n",
       "      <th>Trihalomethanes</th>\n",
       "      <th>Turbidity</th>\n",
       "      <th>Potability</th>\n",
       "    </tr>\n",
       "  </thead>\n",
       "  <tbody>\n",
       "    <tr>\n",
       "      <th>0</th>\n",
       "      <td>region_area_0</td>\n",
       "      <td>7.079240</td>\n",
       "      <td>255.664346</td>\n",
       "      <td>20791.623791</td>\n",
       "      <td>6.995401</td>\n",
       "      <td>369.261555</td>\n",
       "      <td>574.413654</td>\n",
       "      <td>10.484783</td>\n",
       "      <td>87.105970</td>\n",
       "      <td>2.963135</td>\n",
       "      <td>0</td>\n",
       "    </tr>\n",
       "    <tr>\n",
       "      <th>1</th>\n",
       "      <td>region_area_10</td>\n",
       "      <td>7.360640</td>\n",
       "      <td>216.294688</td>\n",
       "      <td>32452.919220</td>\n",
       "      <td>7.245890</td>\n",
       "      <td>327.369467</td>\n",
       "      <td>435.488419</td>\n",
       "      <td>15.691810</td>\n",
       "      <td>78.855016</td>\n",
       "      <td>3.662292</td>\n",
       "      <td>0</td>\n",
       "    </tr>\n",
       "    <tr>\n",
       "      <th>2</th>\n",
       "      <td>region_area_1006</td>\n",
       "      <td>7.230845</td>\n",
       "      <td>228.348694</td>\n",
       "      <td>17864.994196</td>\n",
       "      <td>5.513418</td>\n",
       "      <td>344.338446</td>\n",
       "      <td>377.794992</td>\n",
       "      <td>20.017950</td>\n",
       "      <td>59.418053</td>\n",
       "      <td>5.622018</td>\n",
       "      <td>0</td>\n",
       "    </tr>\n",
       "    <tr>\n",
       "      <th>3</th>\n",
       "      <td>region_area_1010</td>\n",
       "      <td>4.797460</td>\n",
       "      <td>241.089018</td>\n",
       "      <td>21280.551369</td>\n",
       "      <td>5.883692</td>\n",
       "      <td>327.539307</td>\n",
       "      <td>367.541193</td>\n",
       "      <td>11.818821</td>\n",
       "      <td>63.978068</td>\n",
       "      <td>4.038503</td>\n",
       "      <td>0</td>\n",
       "    </tr>\n",
       "    <tr>\n",
       "      <th>4</th>\n",
       "      <td>region_area_1011</td>\n",
       "      <td>9.319176</td>\n",
       "      <td>250.107456</td>\n",
       "      <td>14294.545161</td>\n",
       "      <td>7.480130</td>\n",
       "      <td>366.796865</td>\n",
       "      <td>348.546450</td>\n",
       "      <td>15.320293</td>\n",
       "      <td>63.506468</td>\n",
       "      <td>4.129230</td>\n",
       "      <td>0</td>\n",
       "    </tr>\n",
       "    <tr>\n",
       "      <th>...</th>\n",
       "      <td>...</td>\n",
       "      <td>...</td>\n",
       "      <td>...</td>\n",
       "      <td>...</td>\n",
       "      <td>...</td>\n",
       "      <td>...</td>\n",
       "      <td>...</td>\n",
       "      <td>...</td>\n",
       "      <td>...</td>\n",
       "      <td>...</td>\n",
       "      <td>...</td>\n",
       "    </tr>\n",
       "    <tr>\n",
       "      <th>1011</th>\n",
       "      <td>region_area_986</td>\n",
       "      <td>7.651294</td>\n",
       "      <td>251.490942</td>\n",
       "      <td>11699.438360</td>\n",
       "      <td>6.343462</td>\n",
       "      <td>350.000558</td>\n",
       "      <td>430.933362</td>\n",
       "      <td>18.968817</td>\n",
       "      <td>53.023851</td>\n",
       "      <td>3.258042</td>\n",
       "      <td>0</td>\n",
       "    </tr>\n",
       "    <tr>\n",
       "      <th>1012</th>\n",
       "      <td>region_area_987</td>\n",
       "      <td>4.771491</td>\n",
       "      <td>251.147966</td>\n",
       "      <td>48002.389407</td>\n",
       "      <td>8.860429</td>\n",
       "      <td>341.055289</td>\n",
       "      <td>321.032835</td>\n",
       "      <td>18.873328</td>\n",
       "      <td>63.779155</td>\n",
       "      <td>3.936973</td>\n",
       "      <td>0</td>\n",
       "    </tr>\n",
       "    <tr>\n",
       "      <th>1013</th>\n",
       "      <td>region_area_989</td>\n",
       "      <td>5.392058</td>\n",
       "      <td>248.791056</td>\n",
       "      <td>19900.712648</td>\n",
       "      <td>7.538415</td>\n",
       "      <td>349.697038</td>\n",
       "      <td>429.918956</td>\n",
       "      <td>14.721509</td>\n",
       "      <td>80.683252</td>\n",
       "      <td>2.978925</td>\n",
       "      <td>0</td>\n",
       "    </tr>\n",
       "    <tr>\n",
       "      <th>1014</th>\n",
       "      <td>region_area_995</td>\n",
       "      <td>8.312380</td>\n",
       "      <td>254.518438</td>\n",
       "      <td>8727.552160</td>\n",
       "      <td>7.151492</td>\n",
       "      <td>334.442497</td>\n",
       "      <td>553.497988</td>\n",
       "      <td>15.575400</td>\n",
       "      <td>81.623682</td>\n",
       "      <td>2.988093</td>\n",
       "      <td>0</td>\n",
       "    </tr>\n",
       "    <tr>\n",
       "      <th>1015</th>\n",
       "      <td>region_area_999</td>\n",
       "      <td>7.079240</td>\n",
       "      <td>287.130865</td>\n",
       "      <td>24873.927592</td>\n",
       "      <td>9.105847</td>\n",
       "      <td>301.433530</td>\n",
       "      <td>489.161034</td>\n",
       "      <td>13.626923</td>\n",
       "      <td>46.713871</td>\n",
       "      <td>5.284233</td>\n",
       "      <td>0</td>\n",
       "    </tr>\n",
       "  </tbody>\n",
       "</table>\n",
       "<p>1016 rows × 11 columns</p>\n",
       "</div>"
      ],
      "text/plain": [
       "          region_area_        ph    Hardness        Solids  Chloramines  \\\n",
       "0        region_area_0  7.079240  255.664346  20791.623791     6.995401   \n",
       "1       region_area_10  7.360640  216.294688  32452.919220     7.245890   \n",
       "2     region_area_1006  7.230845  228.348694  17864.994196     5.513418   \n",
       "3     region_area_1010  4.797460  241.089018  21280.551369     5.883692   \n",
       "4     region_area_1011  9.319176  250.107456  14294.545161     7.480130   \n",
       "...                ...       ...         ...           ...          ...   \n",
       "1011   region_area_986  7.651294  251.490942  11699.438360     6.343462   \n",
       "1012   region_area_987  4.771491  251.147966  48002.389407     8.860429   \n",
       "1013   region_area_989  5.392058  248.791056  19900.712648     7.538415   \n",
       "1014   region_area_995  8.312380  254.518438   8727.552160     7.151492   \n",
       "1015   region_area_999  7.079240  287.130865  24873.927592     9.105847   \n",
       "\n",
       "         Sulfate  Conductivity  Organic_carbon  Trihalomethanes  Turbidity  \\\n",
       "0     369.261555    574.413654       10.484783        87.105970   2.963135   \n",
       "1     327.369467    435.488419       15.691810        78.855016   3.662292   \n",
       "2     344.338446    377.794992       20.017950        59.418053   5.622018   \n",
       "3     327.539307    367.541193       11.818821        63.978068   4.038503   \n",
       "4     366.796865    348.546450       15.320293        63.506468   4.129230   \n",
       "...          ...           ...             ...              ...        ...   \n",
       "1011  350.000558    430.933362       18.968817        53.023851   3.258042   \n",
       "1012  341.055289    321.032835       18.873328        63.779155   3.936973   \n",
       "1013  349.697038    429.918956       14.721509        80.683252   2.978925   \n",
       "1014  334.442497    553.497988       15.575400        81.623682   2.988093   \n",
       "1015  301.433530    489.161034       13.626923        46.713871   5.284233   \n",
       "\n",
       "      Potability  \n",
       "0              0  \n",
       "1              0  \n",
       "2              0  \n",
       "3              0  \n",
       "4              0  \n",
       "...          ...  \n",
       "1011           0  \n",
       "1012           0  \n",
       "1013           0  \n",
       "1014           0  \n",
       "1015           0  \n",
       "\n",
       "[1016 rows x 11 columns]"
      ]
     },
     "execution_count": 77,
     "metadata": {},
     "output_type": "execute_result"
    }
   ],
   "source": [
    "test"
   ]
  },
  {
   "cell_type": "code",
   "execution_count": 89,
   "id": "1a3ce864",
   "metadata": {},
   "outputs": [
    {
     "ename": "NameError",
     "evalue": "name 'dat' is not defined",
     "output_type": "error",
     "traceback": [
      "\u001b[1;31m---------------------------------------------------------------------------\u001b[0m",
      "\u001b[1;31mNameError\u001b[0m                                 Traceback (most recent call last)",
      "\u001b[1;32m<ipython-input-89-b267b795f4bf>\u001b[0m in \u001b[0;36m<module>\u001b[1;34m\u001b[0m\n\u001b[1;32m----> 1\u001b[1;33m \u001b[1;33m(\u001b[0m\u001b[0mdat\u001b[0m\u001b[1;33m[\u001b[0m\u001b[1;34m'region_area_'\u001b[0m\u001b[1;33m]\u001b[0m\u001b[1;33m,\u001b[0m\u001b[0mdat\u001b[0m\u001b[1;33m[\u001b[0m\u001b[1;34m'Potability'\u001b[0m\u001b[1;33m]\u001b[0m\u001b[1;33m)\u001b[0m \u001b[1;33m=\u001b[0m \u001b[1;33m(\u001b[0m\u001b[0mtest\u001b[0m\u001b[1;33m[\u001b[0m\u001b[1;34m'region_area_'\u001b[0m\u001b[1;33m]\u001b[0m\u001b[1;33m,\u001b[0m \u001b[0mtest\u001b[0m\u001b[1;33m[\u001b[0m\u001b[1;34m'Potability'\u001b[0m\u001b[1;33m]\u001b[0m\u001b[1;33m)\u001b[0m\u001b[1;33m\u001b[0m\u001b[1;33m\u001b[0m\u001b[0m\n\u001b[0m",
      "\u001b[1;31mNameError\u001b[0m: name 'dat' is not defined"
     ]
    }
   ],
   "source": [
    "(dat['region_area_'],dat['Potability']) = (test['region_area_'], test['Potability'])\n"
   ]
  },
  {
   "cell_type": "code",
   "execution_count": 92,
   "id": "5dfd32b6",
   "metadata": {},
   "outputs": [],
   "source": [
    "dat = pd.DataFrame(sunmit)"
   ]
  },
  {
   "cell_type": "code",
   "execution_count": 93,
   "id": "e6513630",
   "metadata": {},
   "outputs": [],
   "source": [
    "dat['Potability'] = test['Potability']"
   ]
  },
  {
   "cell_type": "code",
   "execution_count": 97,
   "id": "a05f7a07",
   "metadata": {},
   "outputs": [
    {
     "data": {
      "text/html": [
       "<div>\n",
       "<style scoped>\n",
       "    .dataframe tbody tr th:only-of-type {\n",
       "        vertical-align: middle;\n",
       "    }\n",
       "\n",
       "    .dataframe tbody tr th {\n",
       "        vertical-align: top;\n",
       "    }\n",
       "\n",
       "    .dataframe thead th {\n",
       "        text-align: right;\n",
       "    }\n",
       "</style>\n",
       "<table border=\"1\" class=\"dataframe\">\n",
       "  <thead>\n",
       "    <tr style=\"text-align: right;\">\n",
       "      <th></th>\n",
       "      <th>region_area_</th>\n",
       "      <th>Potability</th>\n",
       "    </tr>\n",
       "  </thead>\n",
       "  <tbody>\n",
       "    <tr>\n",
       "      <th>1013</th>\n",
       "      <td>region_area_989</td>\n",
       "      <td>0.0</td>\n",
       "    </tr>\n",
       "    <tr>\n",
       "      <th>1014</th>\n",
       "      <td>region_area_995</td>\n",
       "      <td>0.0</td>\n",
       "    </tr>\n",
       "    <tr>\n",
       "      <th>1015</th>\n",
       "      <td>region_area_999</td>\n",
       "      <td>0.0</td>\n",
       "    </tr>\n",
       "    <tr>\n",
       "      <th>Potability</th>\n",
       "      <td>0       0\n",
       "1       0\n",
       "2       0\n",
       "3       0\n",
       "4     ...</td>\n",
       "      <td>NaN</td>\n",
       "    </tr>\n",
       "    <tr>\n",
       "      <th>region_area_</th>\n",
       "      <td>0          region_area_0\n",
       "1         region_area...</td>\n",
       "      <td>NaN</td>\n",
       "    </tr>\n",
       "  </tbody>\n",
       "</table>\n",
       "</div>"
      ],
      "text/plain": [
       "                                                   region_area_  Potability\n",
       "1013                                            region_area_989         0.0\n",
       "1014                                            region_area_995         0.0\n",
       "1015                                            region_area_999         0.0\n",
       "Potability    0       0\n",
       "1       0\n",
       "2       0\n",
       "3       0\n",
       "4     ...         NaN\n",
       "region_area_  0          region_area_0\n",
       "1         region_area...         NaN"
      ]
     },
     "execution_count": 97,
     "metadata": {},
     "output_type": "execute_result"
    }
   ],
   "source": [
    "dat.tail()"
   ]
  },
  {
   "cell_type": "code",
   "execution_count": 98,
   "id": "74cd1087",
   "metadata": {},
   "outputs": [
    {
     "ename": "PermissionError",
     "evalue": "[Errno 13] Permission denied: 'first.csv'",
     "output_type": "error",
     "traceback": [
      "\u001b[1;31m---------------------------------------------------------------------------\u001b[0m",
      "\u001b[1;31mPermissionError\u001b[0m                           Traceback (most recent call last)",
      "\u001b[1;32m<ipython-input-98-f965ab0deb90>\u001b[0m in \u001b[0;36m<module>\u001b[1;34m\u001b[0m\n\u001b[1;32m----> 1\u001b[1;33m \u001b[0mdat\u001b[0m\u001b[1;33m.\u001b[0m\u001b[0mto_csv\u001b[0m\u001b[1;33m(\u001b[0m\u001b[1;34m'first.csv'\u001b[0m\u001b[1;33m)\u001b[0m\u001b[1;33m\u001b[0m\u001b[1;33m\u001b[0m\u001b[0m\n\u001b[0m",
      "\u001b[1;32m~\\Anaconda3\\lib\\site-packages\\pandas\\core\\generic.py\u001b[0m in \u001b[0;36mto_csv\u001b[1;34m(self, path_or_buf, sep, na_rep, float_format, columns, header, index, index_label, mode, encoding, compression, quoting, quotechar, line_terminator, chunksize, date_format, doublequote, escapechar, decimal, errors, storage_options)\u001b[0m\n\u001b[0;32m   3385\u001b[0m         )\n\u001b[0;32m   3386\u001b[0m \u001b[1;33m\u001b[0m\u001b[0m\n\u001b[1;32m-> 3387\u001b[1;33m         return DataFrameRenderer(formatter).to_csv(\n\u001b[0m\u001b[0;32m   3388\u001b[0m             \u001b[0mpath_or_buf\u001b[0m\u001b[1;33m,\u001b[0m\u001b[1;33m\u001b[0m\u001b[1;33m\u001b[0m\u001b[0m\n\u001b[0;32m   3389\u001b[0m             \u001b[0mline_terminator\u001b[0m\u001b[1;33m=\u001b[0m\u001b[0mline_terminator\u001b[0m\u001b[1;33m,\u001b[0m\u001b[1;33m\u001b[0m\u001b[1;33m\u001b[0m\u001b[0m\n",
      "\u001b[1;32m~\\Anaconda3\\lib\\site-packages\\pandas\\io\\formats\\format.py\u001b[0m in \u001b[0;36mto_csv\u001b[1;34m(self, path_or_buf, encoding, sep, columns, index_label, mode, compression, quoting, quotechar, line_terminator, chunksize, date_format, doublequote, escapechar, errors, storage_options)\u001b[0m\n\u001b[0;32m   1081\u001b[0m             \u001b[0mformatter\u001b[0m\u001b[1;33m=\u001b[0m\u001b[0mself\u001b[0m\u001b[1;33m.\u001b[0m\u001b[0mfmt\u001b[0m\u001b[1;33m,\u001b[0m\u001b[1;33m\u001b[0m\u001b[1;33m\u001b[0m\u001b[0m\n\u001b[0;32m   1082\u001b[0m         )\n\u001b[1;32m-> 1083\u001b[1;33m         \u001b[0mcsv_formatter\u001b[0m\u001b[1;33m.\u001b[0m\u001b[0msave\u001b[0m\u001b[1;33m(\u001b[0m\u001b[1;33m)\u001b[0m\u001b[1;33m\u001b[0m\u001b[1;33m\u001b[0m\u001b[0m\n\u001b[0m\u001b[0;32m   1084\u001b[0m \u001b[1;33m\u001b[0m\u001b[0m\n\u001b[0;32m   1085\u001b[0m         \u001b[1;32mif\u001b[0m \u001b[0mcreated_buffer\u001b[0m\u001b[1;33m:\u001b[0m\u001b[1;33m\u001b[0m\u001b[1;33m\u001b[0m\u001b[0m\n",
      "\u001b[1;32m~\\Anaconda3\\lib\\site-packages\\pandas\\io\\formats\\csvs.py\u001b[0m in \u001b[0;36msave\u001b[1;34m(self)\u001b[0m\n\u001b[0;32m    226\u001b[0m         \"\"\"\n\u001b[0;32m    227\u001b[0m         \u001b[1;31m# apply compression and byte/text conversion\u001b[0m\u001b[1;33m\u001b[0m\u001b[1;33m\u001b[0m\u001b[1;33m\u001b[0m\u001b[0m\n\u001b[1;32m--> 228\u001b[1;33m         with get_handle(\n\u001b[0m\u001b[0;32m    229\u001b[0m             \u001b[0mself\u001b[0m\u001b[1;33m.\u001b[0m\u001b[0mfilepath_or_buffer\u001b[0m\u001b[1;33m,\u001b[0m\u001b[1;33m\u001b[0m\u001b[1;33m\u001b[0m\u001b[0m\n\u001b[0;32m    230\u001b[0m             \u001b[0mself\u001b[0m\u001b[1;33m.\u001b[0m\u001b[0mmode\u001b[0m\u001b[1;33m,\u001b[0m\u001b[1;33m\u001b[0m\u001b[1;33m\u001b[0m\u001b[0m\n",
      "\u001b[1;32m~\\Anaconda3\\lib\\site-packages\\pandas\\io\\common.py\u001b[0m in \u001b[0;36mget_handle\u001b[1;34m(path_or_buf, mode, encoding, compression, memory_map, is_text, errors, storage_options)\u001b[0m\n\u001b[0;32m    640\u001b[0m                 \u001b[0merrors\u001b[0m \u001b[1;33m=\u001b[0m \u001b[1;34m\"replace\"\u001b[0m\u001b[1;33m\u001b[0m\u001b[1;33m\u001b[0m\u001b[0m\n\u001b[0;32m    641\u001b[0m             \u001b[1;31m# Encoding\u001b[0m\u001b[1;33m\u001b[0m\u001b[1;33m\u001b[0m\u001b[1;33m\u001b[0m\u001b[0m\n\u001b[1;32m--> 642\u001b[1;33m             handle = open(\n\u001b[0m\u001b[0;32m    643\u001b[0m                 \u001b[0mhandle\u001b[0m\u001b[1;33m,\u001b[0m\u001b[1;33m\u001b[0m\u001b[1;33m\u001b[0m\u001b[0m\n\u001b[0;32m    644\u001b[0m                 \u001b[0mioargs\u001b[0m\u001b[1;33m.\u001b[0m\u001b[0mmode\u001b[0m\u001b[1;33m,\u001b[0m\u001b[1;33m\u001b[0m\u001b[1;33m\u001b[0m\u001b[0m\n",
      "\u001b[1;31mPermissionError\u001b[0m: [Errno 13] Permission denied: 'first.csv'"
     ]
    }
   ],
   "source": [
    "dat.to_csv('first.csv')"
   ]
  },
  {
   "cell_type": "code",
   "execution_count": 99,
   "id": "5bc8295e",
   "metadata": {},
   "outputs": [],
   "source": [
    "import numpy as np\n",
    "import matplotlib.pyplot as plt\n",
    "from sklearn.datasets import make_classification\n",
    "from time import time\n",
    "from sklearn.linear_model import SGDClassifier\n",
    "from sklearn.ensemble import RandomForestClassifier\n",
    "from sklearn.metrics import accuracy_score\n",
    "from sklearn.model_selection import train_test_split"
   ]
  },
  {
   "cell_type": "code",
   "execution_count": 100,
   "id": "bed9d680",
   "metadata": {},
   "outputs": [
    {
     "name": "stdout",
     "output_type": "stream",
     "text": [
      "Size of the problem:  (1000, 50)\n",
      "Took 0.0 milliseconds\n",
      "Accuracy on the test set: 0.737\n",
      "\n",
      "Size of the problem:  (1584, 50)\n",
      "Took 15.623 milliseconds\n",
      "Accuracy on the test set: 0.729\n",
      "\n",
      "Size of the problem:  (2511, 50)\n",
      "Took 19.133 milliseconds\n",
      "Accuracy on the test set: 0.741\n",
      "\n",
      "Size of the problem:  (3981, 50)\n",
      "Took 15.624 milliseconds\n",
      "Accuracy on the test set: 0.682\n",
      "\n",
      "Size of the problem:  (6309, 50)\n",
      "Took 16.025 milliseconds\n",
      "Accuracy on the test set: 0.753\n",
      "\n",
      "Size of the problem:  (10000, 50)\n",
      "Took 31.147 milliseconds\n",
      "Accuracy on the test set: 0.77\n",
      "\n",
      "Size of the problem:  (15848, 50)\n",
      "Took 31.249 milliseconds\n",
      "Accuracy on the test set: 0.782\n",
      "\n",
      "Size of the problem:  (25118, 50)\n",
      "Took 47.276 milliseconds\n",
      "Accuracy on the test set: 0.757\n",
      "\n",
      "Size of the problem:  (39810, 50)\n",
      "Took 94.126 milliseconds\n",
      "Accuracy on the test set: 0.809\n",
      "\n",
      "Size of the problem:  (63095, 50)\n",
      "Took 140.404 milliseconds\n",
      "Accuracy on the test set: 0.773\n",
      "\n",
      "Size of the problem:  (100000, 50)\n",
      "Took 172.641 milliseconds\n",
      "Accuracy on the test set: 0.815\n",
      "\n",
      "Size of the problem:  (158489, 50)\n",
      "Took 395.941 milliseconds\n",
      "Accuracy on the test set: 0.774\n",
      "\n",
      "Size of the problem:  (251188, 50)\n",
      "Took 625.327 milliseconds\n",
      "Accuracy on the test set: 0.814\n",
      "\n",
      "Size of the problem:  (398107, 50)\n",
      "Took 976.388 milliseconds\n",
      "Accuracy on the test set: 0.81\n",
      "\n",
      "Size of the problem:  (630957, 50)\n",
      "Took 1426.186 milliseconds\n",
      "Accuracy on the test set: 0.79\n",
      "\n",
      "Size of the problem:  (1000000, 50)\n",
      "Took 2161.222 milliseconds\n",
      "Accuracy on the test set: 0.808\n",
      "\n"
     ]
    }
   ],
   "source": [
    "sgd_class = SGDClassifier(alpha=0.001,loss='hinge',max_iter=100,tol=0.001,n_jobs=-1,early_stopping=True,n_iter_no_change=2)\n",
    "hinge_acc=[]\n",
    "hinge_time=[]\n",
    "from sklearn.preprocessing import StandardScaler\n",
    "scaler = StandardScaler()\n",
    "for size in [int(10**(0.2*i)) for i in range(15,31)]:\n",
    "    prob=make_classification(n_samples=size,n_features=50, n_informative=45,n_classes=2,class_sep=0.75,random_state=101)\n",
    "    X,y=prob\n",
    "    X = scaler.fit_transform(X)\n",
    "    print(\"Size of the problem: \",X.shape)\n",
    "    X_train, X_test, y_train, y_test = train_test_split(X, y, test_size=0.3, random_state=42)\n",
    "    t1 = time()\n",
    "    sgd_class.fit(X_train,y_train)\n",
    "    t2 = time()\n",
    "    t_delta=round(1e3*(t2-t1),3)\n",
    "    hinge_time.append(t_delta)\n",
    "    print(f\"Took {t_delta} milliseconds\")\n",
    "    acc = accuracy_score(y_test,sgd_class.predict(X_test))\n",
    "    hinge_acc.append(acc)\n",
    "    print(\"Accuracy on the test set:\", round(acc,3))\n",
    "    print()"
   ]
  },
  {
   "cell_type": "code",
   "execution_count": 101,
   "id": "49092263",
   "metadata": {},
   "outputs": [
    {
     "name": "stdout",
     "output_type": "stream",
     "text": [
      "Size of the problem:  (1000, 50)\n",
      "Took 8.977 milliseconds\n",
      "Accuracy on the test set: 0.71\n",
      "\n",
      "Size of the problem:  (1584, 50)\n",
      "Took 9.971 milliseconds\n",
      "Accuracy on the test set: 0.727\n",
      "\n",
      "Size of the problem:  (2511, 50)\n",
      "Took 10.301 milliseconds\n",
      "Accuracy on the test set: 0.698\n",
      "\n",
      "Size of the problem:  (3981, 50)\n",
      "Took 1.018 milliseconds\n",
      "Accuracy on the test set: 0.717\n",
      "\n",
      "Size of the problem:  (6309, 50)\n",
      "Took 16.789 milliseconds\n",
      "Accuracy on the test set: 0.759\n",
      "\n",
      "Size of the problem:  (10000, 50)\n",
      "Took 16.818 milliseconds\n",
      "Accuracy on the test set: 0.751\n",
      "\n",
      "Size of the problem:  (15848, 50)\n",
      "Took 33.679 milliseconds\n",
      "Accuracy on the test set: 0.777\n",
      "\n",
      "Size of the problem:  (25118, 50)\n",
      "Took 77.986 milliseconds\n",
      "Accuracy on the test set: 0.766\n",
      "\n",
      "Size of the problem:  (39810, 50)\n",
      "Took 99.282 milliseconds\n",
      "Accuracy on the test set: 0.8\n",
      "\n",
      "Size of the problem:  (63095, 50)\n",
      "Took 109.359 milliseconds\n",
      "Accuracy on the test set: 0.781\n",
      "\n",
      "Size of the problem:  (100000, 50)\n",
      "Took 186.919 milliseconds\n",
      "Accuracy on the test set: 0.819\n",
      "\n",
      "Size of the problem:  (158489, 50)\n",
      "Took 346.143 milliseconds\n",
      "Accuracy on the test set: 0.775\n",
      "\n",
      "Size of the problem:  (251188, 50)\n",
      "Took 869.273 milliseconds\n",
      "Accuracy on the test set: 0.813\n",
      "\n",
      "Size of the problem:  (398107, 50)\n",
      "Took 827.341 milliseconds\n",
      "Accuracy on the test set: 0.81\n",
      "\n",
      "Size of the problem:  (630957, 50)\n",
      "Took 1871.911 milliseconds\n",
      "Accuracy on the test set: 0.791\n",
      "\n",
      "Size of the problem:  (1000000, 50)\n",
      "Took 2066.224 milliseconds\n",
      "Accuracy on the test set: 0.809\n",
      "\n"
     ]
    }
   ],
   "source": [
    "sgd_class = SGDClassifier(alpha=0.001,loss='hinge',max_iter=100,tol=0.001,n_jobs=-1,early_stopping=True,n_iter_no_change=2)\n",
    "log_acc=[]\n",
    "log_time=[]\n",
    "from sklearn.preprocessing import StandardScaler\n",
    "scaler = StandardScaler()\n",
    "for size in [int(10**(0.2*i)) for i in range(15,31)]:\n",
    "    prob=make_classification(n_samples=size,n_features=50, n_informative=45,n_classes=2,class_sep=0.75,random_state=101)\n",
    "    X,y=prob\n",
    "    X = scaler.fit_transform(X)\n",
    "    print(\"Size of the problem: \",X.shape)\n",
    "    X_train, X_test, y_train, y_test = train_test_split(X, y, test_size=0.3, random_state=42)\n",
    "    t1 = time()\n",
    "    sgd_class.fit(X_train,y_train)\n",
    "    t2 = time()\n",
    "    t_delta=round(1e3*(t2-t1),3)\n",
    "    log_time.append(t_delta)\n",
    "    print(f\"Took {t_delta} milliseconds\")\n",
    "    acc = accuracy_score(y_test,sgd_class.predict(X_test))\n",
    "    log_acc.append(acc)\n",
    "    print(\"Accuracy on the test set:\", round(acc,3))\n",
    "    print()"
   ]
  },
  {
   "cell_type": "code",
   "execution_count": 102,
   "id": "aebf402e",
   "metadata": {},
   "outputs": [
    {
     "name": "stdout",
     "output_type": "stream",
     "text": [
      "Size of the problem:  (1000, 50)\n",
      "Took 20.134 milliseconds\n",
      "Accuracy on the test set: 0.707\n",
      "\n",
      "Size of the problem:  (1584, 50)\n",
      "Took 0.0 milliseconds\n",
      "Accuracy on the test set: 0.714\n",
      "\n",
      "Size of the problem:  (2511, 50)\n",
      "Took 15.616 milliseconds\n",
      "Accuracy on the test set: 0.708\n",
      "\n",
      "Size of the problem:  (3981, 50)\n",
      "Took 15.625 milliseconds\n",
      "Accuracy on the test set: 0.692\n",
      "\n",
      "Size of the problem:  (6309, 50)\n",
      "Took 15.622 milliseconds\n",
      "Accuracy on the test set: 0.754\n",
      "\n",
      "Size of the problem:  (10000, 50)\n",
      "Took 31.243 milliseconds\n",
      "Accuracy on the test set: 0.783\n",
      "\n",
      "Size of the problem:  (15848, 50)\n",
      "Took 47.267 milliseconds\n",
      "Accuracy on the test set: 0.788\n",
      "\n",
      "Size of the problem:  (25118, 50)\n",
      "Took 62.394 milliseconds\n",
      "Accuracy on the test set: 0.783\n",
      "\n",
      "Size of the problem:  (39810, 50)\n",
      "Took 94.135 milliseconds\n",
      "Accuracy on the test set: 0.801\n",
      "\n",
      "Size of the problem:  (63095, 50)\n",
      "Took 109.76 milliseconds\n",
      "Accuracy on the test set: 0.789\n",
      "\n",
      "Size of the problem:  (100000, 50)\n",
      "Took 199.896 milliseconds\n",
      "Accuracy on the test set: 0.818\n",
      "\n",
      "Size of the problem:  (158489, 50)\n",
      "Took 405.777 milliseconds\n",
      "Accuracy on the test set: 0.774\n",
      "\n",
      "Size of the problem:  (251188, 50)\n",
      "Took 499.178 milliseconds\n",
      "Accuracy on the test set: 0.813\n",
      "\n",
      "Size of the problem:  (398107, 50)\n",
      "Took 906.803 milliseconds\n",
      "Accuracy on the test set: 0.809\n",
      "\n",
      "Size of the problem:  (630957, 50)\n",
      "Took 1273.521 milliseconds\n",
      "Accuracy on the test set: 0.789\n",
      "\n",
      "Size of the problem:  (1000000, 50)\n",
      "Took 2054.083 milliseconds\n",
      "Accuracy on the test set: 0.809\n",
      "\n"
     ]
    }
   ],
   "source": [
    "sgd_class = SGDClassifier(alpha=0.001,loss='hinge',max_iter=100,tol=0.001,n_jobs=-1,early_stopping=True,n_iter_no_change=2)\n",
    "perceptron_acc=[]\n",
    "perceptron_time=[]\n",
    "from sklearn.preprocessing import StandardScaler\n",
    "scaler = StandardScaler()\n",
    "for size in [int(10**(0.2*i)) for i in range(15,31)]:\n",
    "    prob=make_classification(n_samples=size,n_features=50, n_informative=45,n_classes=2,class_sep=0.75,random_state=101)\n",
    "    X,y=prob\n",
    "    X = scaler.fit_transform(X)\n",
    "    print(\"Size of the problem: \",X.shape)\n",
    "    X_train, X_test, y_train, y_test = train_test_split(X, y, test_size=0.3, random_state=42)\n",
    "    t1 = time()\n",
    "    sgd_class.fit(X_train,y_train)\n",
    "    t2 = time()\n",
    "    t_delta=round(1e3*(t2-t1),3)\n",
    "    perceptron_time.append(t_delta)\n",
    "    print(f\"Took {t_delta} milliseconds\")\n",
    "    acc = accuracy_score(y_test,sgd_class.predict(X_test))\n",
    "    perceptron_acc.append(acc)\n",
    "    print(\"Accuracy on the test set:\", round(acc,3))\n",
    "    print()"
   ]
  },
  {
   "cell_type": "code",
   "execution_count": 103,
   "id": "a3330eaf",
   "metadata": {},
   "outputs": [
    {
     "name": "stdout",
     "output_type": "stream",
     "text": [
      "Size of the problem:  (1000, 50)\n",
      "Took 84.773 milliseconds\n",
      "Accuracy: 0.803\n",
      "\n",
      "Size of the problem:  (1584, 50)\n",
      "Took 101.728 milliseconds\n",
      "Accuracy: 0.758\n",
      "\n",
      "Size of the problem:  (2511, 50)\n",
      "Took 97.739 milliseconds\n",
      "Accuracy: 0.748\n",
      "\n",
      "Size of the problem:  (3981, 50)\n",
      "Took 99.733 milliseconds\n",
      "Accuracy: 0.797\n",
      "\n",
      "Size of the problem:  (6309, 50)\n",
      "Took 158.576 milliseconds\n",
      "Accuracy: 0.789\n",
      "\n",
      "Size of the problem:  (10000, 50)\n",
      "Took 215.422 milliseconds\n",
      "Accuracy: 0.823\n",
      "\n",
      "Size of the problem:  (15848, 50)\n",
      "Took 564.15 milliseconds\n",
      "Accuracy: 0.799\n",
      "\n",
      "Size of the problem:  (25118, 50)\n",
      "Took 599.398 milliseconds\n",
      "Accuracy: 0.811\n",
      "\n",
      "Size of the problem:  (39810, 50)\n",
      "Took 929.603 milliseconds\n",
      "Accuracy: 0.827\n",
      "\n",
      "Size of the problem:  (63095, 50)\n",
      "Took 1631.077 milliseconds\n",
      "Accuracy: 0.804\n",
      "\n",
      "Size of the problem:  (100000, 50)\n",
      "Took 3136.457 milliseconds\n",
      "Accuracy: 0.828\n",
      "\n",
      "Size of the problem:  (158489, 50)\n",
      "Took 4755.621 milliseconds\n",
      "Accuracy: 0.792\n",
      "\n",
      "Size of the problem:  (251188, 50)\n",
      "Took 8907.821 milliseconds\n",
      "Accuracy: 0.809\n",
      "\n",
      "Size of the problem:  (398107, 50)\n",
      "Took 13704.844 milliseconds\n",
      "Accuracy: 0.832\n",
      "\n",
      "Size of the problem:  (630957, 50)\n",
      "Took 24321.489 milliseconds\n",
      "Accuracy: 0.799\n",
      "\n",
      "Size of the problem:  (1000000, 50)\n",
      "Took 46194.183 milliseconds\n",
      "Accuracy: 0.82\n",
      "\n"
     ]
    }
   ],
   "source": [
    "rf = RandomForestClassifier(n_estimators=20,max_depth=5,min_samples_leaf=5,min_samples_split=10,n_jobs=-1)\n",
    "rf_acc=[]\n",
    "rf_time=[]\n",
    "from sklearn.preprocessing import StandardScaler\n",
    "scaler = StandardScaler()\n",
    "for size in [int(10**(0.2*i)) for i in range(15,31)]:\n",
    "    prob=make_classification(n_samples=size,n_features=50, n_informative=45,n_classes=2,class_sep=0.75,random_state=101)\n",
    "    X,y=prob\n",
    "    X = scaler.fit_transform(X)\n",
    "    print(\"Size of the problem: \",X.shape)\n",
    "    X_train, X_test, y_train, y_test = train_test_split(X, y, test_size=0.3, random_state=42)\n",
    "    t1 = time()\n",
    "    rf.fit(X_train,y_train)\n",
    "    t2 = time()\n",
    "    t_delta=round(1e3*(t2-t1),3)\n",
    "    rf_time.append(t_delta)\n",
    "    print(f\"Took {t_delta} milliseconds\")\n",
    "    acc = accuracy_score(y_test,rf.predict(X_test))\n",
    "    rf_acc.append(acc)\n",
    "    print(\"Accuracy:\", round(acc,3))\n",
    "    print()"
   ]
  },
  {
   "cell_type": "code",
   "execution_count": 104,
   "id": "dc474dd6",
   "metadata": {},
   "outputs": [],
   "source": [
    "def plot_var(var,var_name):\n",
    "    size =np.array([int(10**(0.2*i)) for i in range(15,31)])\n",
    "    plt.figure(figsize=(8,5))\n",
    "    plt.title(f\"{var_name} with training set size\",fontsize=18)\n",
    "    plt.semilogx(size*0.7,var,marker='o',color='k',lw=3,markersize=12)\n",
    "    plt.grid(True)\n",
    "    plt.xticks(fontsize=15)\n",
    "    plt.yticks(fontsize=15)\n",
    "    plt.xlabel(\"Training set size\",fontsize=15)\n",
    "    plt.ylabel(\"Training time (milliseconds)\",fontsize=15)"
   ]
  },
  {
   "cell_type": "code",
   "execution_count": 106,
   "id": "76d2f8e2",
   "metadata": {},
   "outputs": [
    {
     "ename": "NameError",
     "evalue": "name 'plot' is not defined",
     "output_type": "error",
     "traceback": [
      "\u001b[1;31m---------------------------------------------------------------------------\u001b[0m",
      "\u001b[1;31mNameError\u001b[0m                                 Traceback (most recent call last)",
      "\u001b[1;32m<ipython-input-106-9c26912beed4>\u001b[0m in \u001b[0;36m<module>\u001b[1;34m\u001b[0m\n\u001b[0;32m      3\u001b[0m \u001b[0mplot_var\u001b[0m\u001b[1;33m(\u001b[0m\u001b[0mperceptron_time\u001b[0m\u001b[1;33m,\u001b[0m\u001b[1;34m'Perceptron algorithm time'\u001b[0m\u001b[1;33m)\u001b[0m\u001b[1;33m\u001b[0m\u001b[1;33m\u001b[0m\u001b[0m\n\u001b[0;32m      4\u001b[0m \u001b[0mplot_var\u001b[0m\u001b[1;33m(\u001b[0m\u001b[0mrf_time\u001b[0m\u001b[1;33m,\u001b[0m\u001b[1;34m'Random Forest time'\u001b[0m\u001b[1;33m)\u001b[0m\u001b[1;33m\u001b[0m\u001b[1;33m\u001b[0m\u001b[0m\n\u001b[1;32m----> 5\u001b[1;33m \u001b[0mplot\u001b[0m\u001b[1;33m.\u001b[0m\u001b[0mshow\u001b[0m\u001b[1;33m(\u001b[0m\u001b[1;33m)\u001b[0m\u001b[1;33m\u001b[0m\u001b[1;33m\u001b[0m\u001b[0m\n\u001b[0m",
      "\u001b[1;31mNameError\u001b[0m: name 'plot' is not defined"
     ]
    },
    {
     "data": {
      "image/png": "[encoded data removed]",
      "text/plain": [
       "<Figure size 576x360 with 1 Axes>"
      ]
     },
     "metadata": {},
     "output_type": "display_data"
    },
    {
     "data": {
      "image/png": "[encoded data removed]",
      "text/plain": [
       "<Figure size 576x360 with 1 Axes>"
      ]
     },
     "metadata": {},
     "output_type": "display_data"
    },
    {
     "data": {
      "image/png": "[encoded data removed]",
      "text/plain": [
       "<Figure size 576x360 with 1 Axes>"
      ]
     },
     "metadata": {},
     "output_type": "display_data"
    },
    {
     "data": {
      "image/png": "[encoded data removed]",
      "text/plain": [
       "<Figure size 576x360 with 1 Axes>"
      ]
     },
     "metadata": {},
     "output_type": "display_data"
    }
   ],
   "source": [
    "plot_var(hinge_time,'Hinge loss time')\n",
    "plot_var(log_time,'Logistic loss time')\n",
    "plot_var(perceptron_time,'Perceptron algorithm time')\n",
    "plot_var(rf_time,'Random Forest time')\n",
    "plot.show()"
   ]
  },
  {
   "cell_type": "code",
   "execution_count": 107,
   "id": "41c1d389",
   "metadata": {},
   "outputs": [
    {
     "data": {
      "image/png": "[encoded data removed]",
      "text/plain": [
       "<Figure size 576x360 with 1 Axes>"
      ]
     },
     "metadata": {},
     "output_type": "display_data"
    },
    {
     "data": {
      "image/png": "[encoded data removed]",
      "text/plain": [
       "<Figure size 576x360 with 1 Axes>"
      ]
     },
     "metadata": {},
     "output_type": "display_data"
    },
    {
     "data": {
      "image/png": "[encoded data removed]",
      "text/plain": [
       "<Figure size 576x360 with 1 Axes>"
      ]
     },
     "metadata": {},
     "output_type": "display_data"
    },
    {
     "data": {
      "image/png": "[encoded data removed]",
      "text/plain": [
       "<Figure size 576x360 with 1 Axes>"
      ]
     },
     "metadata": {},
     "output_type": "display_data"
    }
   ],
   "source": [
    "plot_var(hinge_acc,'Hinge loss accuracy')\n",
    "plot_var(log_acc,'Logistic loss accuracy')\n",
    "plot_var(perceptron_acc,'Perceptron algorithm accuracy')\n",
    "plot_var(rf_acc,'Random Forest accuracy')\n",
    "plt.show()"
   ]
  },
  {
   "cell_type": "code",
   "execution_count": 110,
   "id": "47f68366",
   "metadata": {},
   "outputs": [
    {
     "ename": "ValueError",
     "evalue": "X has 9 features per sample; expecting 50",
     "output_type": "error",
     "traceback": [
      "\u001b[1;31m---------------------------------------------------------------------------\u001b[0m",
      "\u001b[1;31mValueError\u001b[0m                                Traceback (most recent call last)",
      "\u001b[1;32m<ipython-input-110-e7723103199b>\u001b[0m in \u001b[0;36m<module>\u001b[1;34m\u001b[0m\n\u001b[1;32m----> 1\u001b[1;33m \u001b[0mp\u001b[0m \u001b[1;33m=\u001b[0m \u001b[0msgd_class\u001b[0m\u001b[1;33m.\u001b[0m\u001b[0mpredict\u001b[0m\u001b[1;33m(\u001b[0m\u001b[0mtest_target\u001b[0m\u001b[1;33m)\u001b[0m\u001b[1;33m\u001b[0m\u001b[1;33m\u001b[0m\u001b[0m\n\u001b[0m",
      "\u001b[1;32m~\\Anaconda3\\lib\\site-packages\\sklearn\\linear_model\\_base.py\u001b[0m in \u001b[0;36mpredict\u001b[1;34m(self, X)\u001b[0m\n\u001b[0;32m    307\u001b[0m             \u001b[0mPredicted\u001b[0m \u001b[1;32mclass\u001b[0m \u001b[0mlabel\u001b[0m \u001b[0mper\u001b[0m \u001b[0msample\u001b[0m\u001b[1;33m.\u001b[0m\u001b[1;33m\u001b[0m\u001b[1;33m\u001b[0m\u001b[0m\n\u001b[0;32m    308\u001b[0m         \"\"\"\n\u001b[1;32m--> 309\u001b[1;33m         \u001b[0mscores\u001b[0m \u001b[1;33m=\u001b[0m \u001b[0mself\u001b[0m\u001b[1;33m.\u001b[0m\u001b[0mdecision_function\u001b[0m\u001b[1;33m(\u001b[0m\u001b[0mX\u001b[0m\u001b[1;33m)\u001b[0m\u001b[1;33m\u001b[0m\u001b[1;33m\u001b[0m\u001b[0m\n\u001b[0m\u001b[0;32m    310\u001b[0m         \u001b[1;32mif\u001b[0m \u001b[0mlen\u001b[0m\u001b[1;33m(\u001b[0m\u001b[0mscores\u001b[0m\u001b[1;33m.\u001b[0m\u001b[0mshape\u001b[0m\u001b[1;33m)\u001b[0m \u001b[1;33m==\u001b[0m \u001b[1;36m1\u001b[0m\u001b[1;33m:\u001b[0m\u001b[1;33m\u001b[0m\u001b[1;33m\u001b[0m\u001b[0m\n\u001b[0;32m    311\u001b[0m             \u001b[0mindices\u001b[0m \u001b[1;33m=\u001b[0m \u001b[1;33m(\u001b[0m\u001b[0mscores\u001b[0m \u001b[1;33m>\u001b[0m \u001b[1;36m0\u001b[0m\u001b[1;33m)\u001b[0m\u001b[1;33m.\u001b[0m\u001b[0mastype\u001b[0m\u001b[1;33m(\u001b[0m\u001b[0mint\u001b[0m\u001b[1;33m)\u001b[0m\u001b[1;33m\u001b[0m\u001b[1;33m\u001b[0m\u001b[0m\n",
      "\u001b[1;32m~\\Anaconda3\\lib\\site-packages\\sklearn\\linear_model\\_base.py\u001b[0m in \u001b[0;36mdecision_function\u001b[1;34m(self, X)\u001b[0m\n\u001b[0;32m    286\u001b[0m         \u001b[0mn_features\u001b[0m \u001b[1;33m=\u001b[0m \u001b[0mself\u001b[0m\u001b[1;33m.\u001b[0m\u001b[0mcoef_\u001b[0m\u001b[1;33m.\u001b[0m\u001b[0mshape\u001b[0m\u001b[1;33m[\u001b[0m\u001b[1;36m1\u001b[0m\u001b[1;33m]\u001b[0m\u001b[1;33m\u001b[0m\u001b[1;33m\u001b[0m\u001b[0m\n\u001b[0;32m    287\u001b[0m         \u001b[1;32mif\u001b[0m \u001b[0mX\u001b[0m\u001b[1;33m.\u001b[0m\u001b[0mshape\u001b[0m\u001b[1;33m[\u001b[0m\u001b[1;36m1\u001b[0m\u001b[1;33m]\u001b[0m \u001b[1;33m!=\u001b[0m \u001b[0mn_features\u001b[0m\u001b[1;33m:\u001b[0m\u001b[1;33m\u001b[0m\u001b[1;33m\u001b[0m\u001b[0m\n\u001b[1;32m--> 288\u001b[1;33m             raise ValueError(\"X has %d features per sample; expecting %d\"\n\u001b[0m\u001b[0;32m    289\u001b[0m                              % (X.shape[1], n_features))\n\u001b[0;32m    290\u001b[0m \u001b[1;33m\u001b[0m\u001b[0m\n",
      "\u001b[1;31mValueError\u001b[0m: X has 9 features per sample; expecting 50"
     ]
    }
   ],
   "source": [
    "p = sgd_class.predict(test_target)"
   ]
  },
  {
   "cell_type": "code",
   "execution_count": null,
   "id": "5547a7f1",
   "metadata": {},
   "outputs": [],
   "source": []
  }
 ],
 "metadata": {
  "kernelspec": {
   "display_name": "Python 3",
   "language": "python",
   "name": "python3"
  },
  "language_info": {
   "codemirror_mode": {
    "name": "ipython",
    "version": 3
   },
   "file_extension": ".py",
   "mimetype": "text/x-python",
   "name": "python",
   "nbconvert_exporter": "python",
   "pygments_lexer": "ipython3",
   "version": "3.8.8"
  }
 },
 "nbformat": 4,
 "nbformat_minor": 5
}
