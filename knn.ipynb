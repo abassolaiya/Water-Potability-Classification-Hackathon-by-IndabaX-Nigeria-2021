{
 "cells": [
  {
   "cell_type": "code",
   "execution_count": 1,
   "id": "fff21165",
   "metadata": {},
   "outputs": [],
   "source": [
    "import numpy as np\n",
    "import pandas as pd\n",
    "import matplotlib.pyplot as plt\n",
    "import seaborn as sns\n",
    "%matplotlib inline"
   ]
  },
  {
   "cell_type": "code",
   "execution_count": 2,
   "id": "71ffd605",
   "metadata": {},
   "outputs": [],
   "source": [
    "df = pd.read_csv('train.csv')"
   ]
  },
  {
   "cell_type": "code",
   "execution_count": 3,
   "id": "eeb34ec7",
   "metadata": {},
   "outputs": [
    {
     "data": {
      "text/html": [
       "<div>\n",
       "<style scoped>\n",
       "    .dataframe tbody tr th:only-of-type {\n",
       "        vertical-align: middle;\n",
       "    }\n",
       "\n",
       "    .dataframe tbody tr th {\n",
       "        vertical-align: top;\n",
       "    }\n",
       "\n",
       "    .dataframe thead th {\n",
       "        text-align: right;\n",
       "    }\n",
       "</style>\n",
       "<table border=\"1\" class=\"dataframe\">\n",
       "  <thead>\n",
       "    <tr style=\"text-align: right;\">\n",
       "      <th></th>\n",
       "      <th>region_area_</th>\n",
       "      <th>ph</th>\n",
       "      <th>Hardness</th>\n",
       "      <th>Solids</th>\n",
       "      <th>Chloramines</th>\n",
       "      <th>Sulfate</th>\n",
       "      <th>Conductivity</th>\n",
       "      <th>Organic_carbon</th>\n",
       "      <th>Trihalomethanes</th>\n",
       "      <th>Turbidity</th>\n",
       "      <th>Potability</th>\n",
       "    </tr>\n",
       "  </thead>\n",
       "  <tbody>\n",
       "    <tr>\n",
       "      <th>0</th>\n",
       "      <td>region_area_1</td>\n",
       "      <td>3.716080</td>\n",
       "      <td>180.196811</td>\n",
       "      <td>18630.36267</td>\n",
       "      <td>6.330435</td>\n",
       "      <td>NaN</td>\n",
       "      <td>602.990359</td>\n",
       "      <td>15.285013</td>\n",
       "      <td>56.444076</td>\n",
       "      <td>4.500656</td>\n",
       "      <td>0</td>\n",
       "    </tr>\n",
       "    <tr>\n",
       "      <th>1</th>\n",
       "      <td>region_area_100</td>\n",
       "      <td>4.270716</td>\n",
       "      <td>217.611599</td>\n",
       "      <td>24405.55535</td>\n",
       "      <td>7.086700</td>\n",
       "      <td>297.951852</td>\n",
       "      <td>359.623910</td>\n",
       "      <td>13.583526</td>\n",
       "      <td>54.589840</td>\n",
       "      <td>3.763906</td>\n",
       "      <td>0</td>\n",
       "    </tr>\n",
       "    <tr>\n",
       "      <th>2</th>\n",
       "      <td>region_area_1000</td>\n",
       "      <td>6.648849</td>\n",
       "      <td>232.462013</td>\n",
       "      <td>30733.80865</td>\n",
       "      <td>5.656462</td>\n",
       "      <td>344.670336</td>\n",
       "      <td>267.809179</td>\n",
       "      <td>17.863444</td>\n",
       "      <td>35.411181</td>\n",
       "      <td>4.827527</td>\n",
       "      <td>0</td>\n",
       "    </tr>\n",
       "    <tr>\n",
       "      <th>3</th>\n",
       "      <td>region_area_1001</td>\n",
       "      <td>NaN</td>\n",
       "      <td>261.753638</td>\n",
       "      <td>21174.71329</td>\n",
       "      <td>7.314074</td>\n",
       "      <td>NaN</td>\n",
       "      <td>582.848407</td>\n",
       "      <td>15.215849</td>\n",
       "      <td>90.367455</td>\n",
       "      <td>4.217553</td>\n",
       "      <td>0</td>\n",
       "    </tr>\n",
       "    <tr>\n",
       "      <th>4</th>\n",
       "      <td>region_area_1002</td>\n",
       "      <td>9.323584</td>\n",
       "      <td>263.484560</td>\n",
       "      <td>15751.48011</td>\n",
       "      <td>5.196259</td>\n",
       "      <td>297.593625</td>\n",
       "      <td>409.878704</td>\n",
       "      <td>10.727265</td>\n",
       "      <td>74.669285</td>\n",
       "      <td>3.006650</td>\n",
       "      <td>0</td>\n",
       "    </tr>\n",
       "  </tbody>\n",
       "</table>\n",
       "</div>"
      ],
      "text/plain": [
       "       region_area_        ph    Hardness       Solids  Chloramines  \\\n",
       "0     region_area_1  3.716080  180.196811  18630.36267     6.330435   \n",
       "1   region_area_100  4.270716  217.611599  24405.55535     7.086700   \n",
       "2  region_area_1000  6.648849  232.462013  30733.80865     5.656462   \n",
       "3  region_area_1001       NaN  261.753638  21174.71329     7.314074   \n",
       "4  region_area_1002  9.323584  263.484560  15751.48011     5.196259   \n",
       "\n",
       "      Sulfate  Conductivity  Organic_carbon  Trihalomethanes  Turbidity  \\\n",
       "0         NaN    602.990359       15.285013        56.444076   4.500656   \n",
       "1  297.951852    359.623910       13.583526        54.589840   3.763906   \n",
       "2  344.670336    267.809179       17.863444        35.411181   4.827527   \n",
       "3         NaN    582.848407       15.215849        90.367455   4.217553   \n",
       "4  297.593625    409.878704       10.727265        74.669285   3.006650   \n",
       "\n",
       "   Potability  \n",
       "0           0  \n",
       "1           0  \n",
       "2           0  \n",
       "3           0  \n",
       "4           0  "
      ]
     },
     "execution_count": 3,
     "metadata": {},
     "output_type": "execute_result"
    }
   ],
   "source": [
    "df.head()"
   ]
  },
  {
   "cell_type": "code",
   "execution_count": 4,
   "id": "2f3eeb62",
   "metadata": {},
   "outputs": [],
   "source": [
    "df.fillna(df.mean(), inplace=True)"
   ]
  },
  {
   "cell_type": "code",
   "execution_count": 5,
   "id": "2df706e1",
   "metadata": {},
   "outputs": [
    {
     "data": {
      "text/html": [
       "<div>\n",
       "<style scoped>\n",
       "    .dataframe tbody tr th:only-of-type {\n",
       "        vertical-align: middle;\n",
       "    }\n",
       "\n",
       "    .dataframe tbody tr th {\n",
       "        vertical-align: top;\n",
       "    }\n",
       "\n",
       "    .dataframe thead th {\n",
       "        text-align: right;\n",
       "    }\n",
       "</style>\n",
       "<table border=\"1\" class=\"dataframe\">\n",
       "  <thead>\n",
       "    <tr style=\"text-align: right;\">\n",
       "      <th></th>\n",
       "      <th>region_area_</th>\n",
       "      <th>ph</th>\n",
       "      <th>Hardness</th>\n",
       "      <th>Solids</th>\n",
       "      <th>Chloramines</th>\n",
       "      <th>Sulfate</th>\n",
       "      <th>Conductivity</th>\n",
       "      <th>Organic_carbon</th>\n",
       "      <th>Trihalomethanes</th>\n",
       "      <th>Turbidity</th>\n",
       "      <th>Potability</th>\n",
       "    </tr>\n",
       "  </thead>\n",
       "  <tbody>\n",
       "    <tr>\n",
       "      <th>0</th>\n",
       "      <td>region_area_1</td>\n",
       "      <td>3.716080</td>\n",
       "      <td>180.196811</td>\n",
       "      <td>18630.36267</td>\n",
       "      <td>6.330435</td>\n",
       "      <td>334.442497</td>\n",
       "      <td>602.990359</td>\n",
       "      <td>15.285013</td>\n",
       "      <td>56.444076</td>\n",
       "      <td>4.500656</td>\n",
       "      <td>0</td>\n",
       "    </tr>\n",
       "    <tr>\n",
       "      <th>1</th>\n",
       "      <td>region_area_100</td>\n",
       "      <td>4.270716</td>\n",
       "      <td>217.611599</td>\n",
       "      <td>24405.55535</td>\n",
       "      <td>7.086700</td>\n",
       "      <td>297.951852</td>\n",
       "      <td>359.623910</td>\n",
       "      <td>13.583526</td>\n",
       "      <td>54.589840</td>\n",
       "      <td>3.763906</td>\n",
       "      <td>0</td>\n",
       "    </tr>\n",
       "    <tr>\n",
       "      <th>2</th>\n",
       "      <td>region_area_1000</td>\n",
       "      <td>6.648849</td>\n",
       "      <td>232.462013</td>\n",
       "      <td>30733.80865</td>\n",
       "      <td>5.656462</td>\n",
       "      <td>344.670336</td>\n",
       "      <td>267.809179</td>\n",
       "      <td>17.863444</td>\n",
       "      <td>35.411181</td>\n",
       "      <td>4.827527</td>\n",
       "      <td>0</td>\n",
       "    </tr>\n",
       "    <tr>\n",
       "      <th>3</th>\n",
       "      <td>region_area_1001</td>\n",
       "      <td>7.079240</td>\n",
       "      <td>261.753638</td>\n",
       "      <td>21174.71329</td>\n",
       "      <td>7.314074</td>\n",
       "      <td>334.442497</td>\n",
       "      <td>582.848407</td>\n",
       "      <td>15.215849</td>\n",
       "      <td>90.367455</td>\n",
       "      <td>4.217553</td>\n",
       "      <td>0</td>\n",
       "    </tr>\n",
       "    <tr>\n",
       "      <th>4</th>\n",
       "      <td>region_area_1002</td>\n",
       "      <td>9.323584</td>\n",
       "      <td>263.484560</td>\n",
       "      <td>15751.48011</td>\n",
       "      <td>5.196259</td>\n",
       "      <td>297.593625</td>\n",
       "      <td>409.878704</td>\n",
       "      <td>10.727265</td>\n",
       "      <td>74.669285</td>\n",
       "      <td>3.006650</td>\n",
       "      <td>0</td>\n",
       "    </tr>\n",
       "  </tbody>\n",
       "</table>\n",
       "</div>"
      ],
      "text/plain": [
       "       region_area_        ph    Hardness       Solids  Chloramines  \\\n",
       "0     region_area_1  3.716080  180.196811  18630.36267     6.330435   \n",
       "1   region_area_100  4.270716  217.611599  24405.55535     7.086700   \n",
       "2  region_area_1000  6.648849  232.462013  30733.80865     5.656462   \n",
       "3  region_area_1001  7.079240  261.753638  21174.71329     7.314074   \n",
       "4  region_area_1002  9.323584  263.484560  15751.48011     5.196259   \n",
       "\n",
       "      Sulfate  Conductivity  Organic_carbon  Trihalomethanes  Turbidity  \\\n",
       "0  334.442497    602.990359       15.285013        56.444076   4.500656   \n",
       "1  297.951852    359.623910       13.583526        54.589840   3.763906   \n",
       "2  344.670336    267.809179       17.863444        35.411181   4.827527   \n",
       "3  334.442497    582.848407       15.215849        90.367455   4.217553   \n",
       "4  297.593625    409.878704       10.727265        74.669285   3.006650   \n",
       "\n",
       "   Potability  \n",
       "0           0  \n",
       "1           0  \n",
       "2           0  \n",
       "3           0  \n",
       "4           0  "
      ]
     },
     "execution_count": 5,
     "metadata": {},
     "output_type": "execute_result"
    }
   ],
   "source": [
    "df.head()"
   ]
  },
  {
   "cell_type": "code",
   "execution_count": 6,
   "id": "8ead68b9",
   "metadata": {},
   "outputs": [
    {
     "data": {
      "text/html": [
       "<div>\n",
       "<style scoped>\n",
       "    .dataframe tbody tr th:only-of-type {\n",
       "        vertical-align: middle;\n",
       "    }\n",
       "\n",
       "    .dataframe tbody tr th {\n",
       "        vertical-align: top;\n",
       "    }\n",
       "\n",
       "    .dataframe thead th {\n",
       "        text-align: right;\n",
       "    }\n",
       "</style>\n",
       "<table border=\"1\" class=\"dataframe\">\n",
       "  <thead>\n",
       "    <tr style=\"text-align: right;\">\n",
       "      <th></th>\n",
       "      <th>ph</th>\n",
       "      <th>Hardness</th>\n",
       "      <th>Solids</th>\n",
       "      <th>Chloramines</th>\n",
       "      <th>Sulfate</th>\n",
       "      <th>Conductivity</th>\n",
       "      <th>Organic_carbon</th>\n",
       "      <th>Trihalomethanes</th>\n",
       "      <th>Turbidity</th>\n",
       "    </tr>\n",
       "  </thead>\n",
       "  <tbody>\n",
       "    <tr>\n",
       "      <th>0</th>\n",
       "      <td>3.716080</td>\n",
       "      <td>180.196811</td>\n",
       "      <td>18630.36267</td>\n",
       "      <td>6.330435</td>\n",
       "      <td>334.442497</td>\n",
       "      <td>602.990359</td>\n",
       "      <td>15.285013</td>\n",
       "      <td>56.444076</td>\n",
       "      <td>4.500656</td>\n",
       "    </tr>\n",
       "    <tr>\n",
       "      <th>1</th>\n",
       "      <td>4.270716</td>\n",
       "      <td>217.611599</td>\n",
       "      <td>24405.55535</td>\n",
       "      <td>7.086700</td>\n",
       "      <td>297.951852</td>\n",
       "      <td>359.623910</td>\n",
       "      <td>13.583526</td>\n",
       "      <td>54.589840</td>\n",
       "      <td>3.763906</td>\n",
       "    </tr>\n",
       "    <tr>\n",
       "      <th>2</th>\n",
       "      <td>6.648849</td>\n",
       "      <td>232.462013</td>\n",
       "      <td>30733.80865</td>\n",
       "      <td>5.656462</td>\n",
       "      <td>344.670336</td>\n",
       "      <td>267.809179</td>\n",
       "      <td>17.863444</td>\n",
       "      <td>35.411181</td>\n",
       "      <td>4.827527</td>\n",
       "    </tr>\n",
       "    <tr>\n",
       "      <th>3</th>\n",
       "      <td>7.079240</td>\n",
       "      <td>261.753638</td>\n",
       "      <td>21174.71329</td>\n",
       "      <td>7.314074</td>\n",
       "      <td>334.442497</td>\n",
       "      <td>582.848407</td>\n",
       "      <td>15.215849</td>\n",
       "      <td>90.367455</td>\n",
       "      <td>4.217553</td>\n",
       "    </tr>\n",
       "    <tr>\n",
       "      <th>4</th>\n",
       "      <td>9.323584</td>\n",
       "      <td>263.484560</td>\n",
       "      <td>15751.48011</td>\n",
       "      <td>5.196259</td>\n",
       "      <td>297.593625</td>\n",
       "      <td>409.878704</td>\n",
       "      <td>10.727265</td>\n",
       "      <td>74.669285</td>\n",
       "      <td>3.006650</td>\n",
       "    </tr>\n",
       "  </tbody>\n",
       "</table>\n",
       "</div>"
      ],
      "text/plain": [
       "         ph    Hardness       Solids  Chloramines     Sulfate  Conductivity  \\\n",
       "0  3.716080  180.196811  18630.36267     6.330435  334.442497    602.990359   \n",
       "1  4.270716  217.611599  24405.55535     7.086700  297.951852    359.623910   \n",
       "2  6.648849  232.462013  30733.80865     5.656462  344.670336    267.809179   \n",
       "3  7.079240  261.753638  21174.71329     7.314074  334.442497    582.848407   \n",
       "4  9.323584  263.484560  15751.48011     5.196259  297.593625    409.878704   \n",
       "\n",
       "   Organic_carbon  Trihalomethanes  Turbidity  \n",
       "0       15.285013        56.444076   4.500656  \n",
       "1       13.583526        54.589840   3.763906  \n",
       "2       17.863444        35.411181   4.827527  \n",
       "3       15.215849        90.367455   4.217553  \n",
       "4       10.727265        74.669285   3.006650  "
      ]
     },
     "execution_count": 6,
     "metadata": {},
     "output_type": "execute_result"
    }
   ],
   "source": [
    "df_1 = df.drop('Potability',axis=1) # Define a dataframe with only features\n",
    "df_feat = df_1.drop('region_area_',axis=1) # Define a dataframe with only features\n",
    "df_feat.head()"
   ]
  },
  {
   "cell_type": "code",
   "execution_count": 7,
   "id": "b75d1d61",
   "metadata": {},
   "outputs": [
    {
     "data": {
      "text/plain": [
       "0    0\n",
       "1    0\n",
       "2    0\n",
       "3    0\n",
       "4    0\n",
       "Name: Potability, dtype: int64"
      ]
     },
     "execution_count": 7,
     "metadata": {},
     "output_type": "execute_result"
    }
   ],
   "source": [
    "df_target = df['Potability'] # Define a dataframe with only target results i.e. cancer detections\n",
    "df_target.head()"
   ]
  },
  {
   "cell_type": "code",
   "execution_count": 8,
   "id": "2b5f1733",
   "metadata": {},
   "outputs": [],
   "source": [
    "from sklearn.model_selection import train_test_split\n",
    "X_train, X_test, y_train, y_test = train_test_split(df_feat, df_target, test_size=0.30, random_state=101)"
   ]
  },
  {
   "cell_type": "code",
   "execution_count": 9,
   "id": "9a6a4c00",
   "metadata": {},
   "outputs": [
    {
     "data": {
      "text/plain": [
       "2006    1\n",
       "2365    0\n",
       "1295    0\n",
       "2157    1\n",
       "1907    1\n",
       "Name: Potability, dtype: int64"
      ]
     },
     "execution_count": 9,
     "metadata": {},
     "output_type": "execute_result"
    }
   ],
   "source": [
    "y_train.head()"
   ]
  },
  {
   "cell_type": "code",
   "execution_count": 10,
   "id": "cc4f7287",
   "metadata": {},
   "outputs": [],
   "source": [
    "from sklearn.preprocessing import StandardScaler\n",
    "scaler = StandardScaler()"
   ]
  },
  {
   "cell_type": "code",
   "execution_count": 17,
   "id": "a604843b",
   "metadata": {},
   "outputs": [],
   "source": [
    "scaler.fit(df_1.drop('region_area_',axis=1))\n",
    "scaled_features = scaler.transform(df_1.drop('region_area_',axis=1))"
   ]
  },
  {
   "cell_type": "code",
   "execution_count": 19,
   "id": "4254920c",
   "metadata": {},
   "outputs": [
    {
     "data": {
      "text/html": [
       "<div>\n",
       "<style scoped>\n",
       "    .dataframe tbody tr th:only-of-type {\n",
       "        vertical-align: middle;\n",
       "    }\n",
       "\n",
       "    .dataframe tbody tr th {\n",
       "        vertical-align: top;\n",
       "    }\n",
       "\n",
       "    .dataframe thead th {\n",
       "        text-align: right;\n",
       "    }\n",
       "</style>\n",
       "<table border=\"1\" class=\"dataframe\">\n",
       "  <thead>\n",
       "    <tr style=\"text-align: right;\">\n",
       "      <th></th>\n",
       "      <th>ph</th>\n",
       "      <th>Hardness</th>\n",
       "      <th>Solids</th>\n",
       "      <th>Chloramines</th>\n",
       "      <th>Sulfate</th>\n",
       "      <th>Conductivity</th>\n",
       "      <th>Organic_carbon</th>\n",
       "      <th>Trihalomethanes</th>\n",
       "      <th>Turbidity</th>\n",
       "    </tr>\n",
       "  </thead>\n",
       "  <tbody>\n",
       "    <tr>\n",
       "      <th>0</th>\n",
       "      <td>-2.277080e+00</td>\n",
       "      <td>-1.967644</td>\n",
       "      <td>-0.392427</td>\n",
       "      <td>-0.316906</td>\n",
       "      <td>1.810328e-14</td>\n",
       "      <td>2.064913</td>\n",
       "      <td>0.276427</td>\n",
       "      <td>-0.628784</td>\n",
       "      <td>0.680256</td>\n",
       "    </tr>\n",
       "    <tr>\n",
       "      <th>1</th>\n",
       "      <td>-1.901555e+00</td>\n",
       "      <td>-0.869532</td>\n",
       "      <td>0.256256</td>\n",
       "      <td>0.149191</td>\n",
       "      <td>-9.684502e-01</td>\n",
       "      <td>-0.959075</td>\n",
       "      <td>-0.239088</td>\n",
       "      <td>-0.745414</td>\n",
       "      <td>-0.272178</td>\n",
       "    </tr>\n",
       "    <tr>\n",
       "      <th>2</th>\n",
       "      <td>-2.914026e-01</td>\n",
       "      <td>-0.433678</td>\n",
       "      <td>0.967060</td>\n",
       "      <td>-0.732287</td>\n",
       "      <td>2.714436e-01</td>\n",
       "      <td>-2.099934</td>\n",
       "      <td>1.057638</td>\n",
       "      <td>-1.951741</td>\n",
       "      <td>1.102819</td>\n",
       "    </tr>\n",
       "    <tr>\n",
       "      <th>3</th>\n",
       "      <td>-7.817618e-15</td>\n",
       "      <td>0.426022</td>\n",
       "      <td>-0.106640</td>\n",
       "      <td>0.289326</td>\n",
       "      <td>1.810328e-14</td>\n",
       "      <td>1.814636</td>\n",
       "      <td>0.255471</td>\n",
       "      <td>1.504978</td>\n",
       "      <td>0.314275</td>\n",
       "    </tr>\n",
       "    <tr>\n",
       "      <th>4</th>\n",
       "      <td>1.519569e+00</td>\n",
       "      <td>0.476824</td>\n",
       "      <td>-0.715790</td>\n",
       "      <td>-1.015917</td>\n",
       "      <td>-9.779574e-01</td>\n",
       "      <td>-0.334626</td>\n",
       "      <td>-1.104476</td>\n",
       "      <td>0.517572</td>\n",
       "      <td>-1.251119</td>\n",
       "    </tr>\n",
       "  </tbody>\n",
       "</table>\n",
       "</div>"
      ],
      "text/plain": [
       "             ph  Hardness    Solids  Chloramines       Sulfate  Conductivity  \\\n",
       "0 -2.277080e+00 -1.967644 -0.392427    -0.316906  1.810328e-14      2.064913   \n",
       "1 -1.901555e+00 -0.869532  0.256256     0.149191 -9.684502e-01     -0.959075   \n",
       "2 -2.914026e-01 -0.433678  0.967060    -0.732287  2.714436e-01     -2.099934   \n",
       "3 -7.817618e-15  0.426022 -0.106640     0.289326  1.810328e-14      1.814636   \n",
       "4  1.519569e+00  0.476824 -0.715790    -1.015917 -9.779574e-01     -0.334626   \n",
       "\n",
       "   Organic_carbon  Trihalomethanes  Turbidity  \n",
       "0        0.276427        -0.628784   0.680256  \n",
       "1       -0.239088        -0.745414  -0.272178  \n",
       "2        1.057638        -1.951741   1.102819  \n",
       "3        0.255471         1.504978   0.314275  \n",
       "4       -1.104476         0.517572  -1.251119  "
      ]
     },
     "execution_count": 19,
     "metadata": {},
     "output_type": "execute_result"
    }
   ],
   "source": [
    "df_feat = pd.DataFrame(scaled_features,columns=df_1.columns[1:])\n",
    "df_feat.head()"
   ]
  },
  {
   "cell_type": "code",
   "execution_count": 20,
   "id": "07292ee6",
   "metadata": {},
   "outputs": [],
   "source": [
    "from sklearn.model_selection import train_test_split\n",
    "X = df_feat\n",
    "y = df['Potability']\n",
    "X_train, X_test, y_train, y_test = train_test_split(scaled_features,df['Potability'],\n",
    "                                                    test_size=0.50, random_state=101)"
   ]
  },
  {
   "cell_type": "code",
   "execution_count": 33,
   "id": "2323cbc6",
   "metadata": {},
   "outputs": [
    {
     "data": {
      "text/plain": [
       "KNeighborsClassifier(n_neighbors=1)"
      ]
     },
     "execution_count": 33,
     "metadata": {},
     "output_type": "execute_result"
    }
   ],
   "source": [
    "from sklearn.neighbors import KNeighborsClassifier\n",
    "knn = KNeighborsClassifier(n_neighbors=1)\n",
    "knn.fit(X_train,y_train)"
   ]
  },
  {
   "cell_type": "code",
   "execution_count": 34,
   "id": "5e4dc966",
   "metadata": {},
   "outputs": [],
   "source": [
    "pred = knn.predict(X_test)"
   ]
  },
  {
   "cell_type": "code",
   "execution_count": 35,
   "id": "12f12e26",
   "metadata": {},
   "outputs": [
    {
     "name": "stdout",
     "output_type": "stream",
     "text": [
      "[[435 272]\n",
      " [203 473]]\n"
     ]
    }
   ],
   "source": [
    "from sklearn.metrics import classification_report,confusion_matrix\n",
    "conf_mat=confusion_matrix(y_test,pred)\n",
    "print(conf_mat)"
   ]
  },
  {
   "cell_type": "code",
   "execution_count": 36,
   "id": "6e01245c",
   "metadata": {},
   "outputs": [
    {
     "name": "stdout",
     "output_type": "stream",
     "text": [
      "              precision    recall  f1-score   support\n",
      "\n",
      "           0       0.68      0.62      0.65       707\n",
      "           1       0.63      0.70      0.67       676\n",
      "\n",
      "    accuracy                           0.66      1383\n",
      "   macro avg       0.66      0.66      0.66      1383\n",
      "weighted avg       0.66      0.66      0.66      1383\n",
      "\n"
     ]
    }
   ],
   "source": [
    "print(classification_report(y_test,pred))"
   ]
  },
  {
   "cell_type": "code",
   "execution_count": 37,
   "id": "a4570b10",
   "metadata": {},
   "outputs": [
    {
     "name": "stdout",
     "output_type": "stream",
     "text": [
      "Misclassification error rate: 0.343\n"
     ]
    }
   ],
   "source": [
    "print(\"Misclassification error rate:\",round(np.mean(pred!=y_test),3))"
   ]
  },
  {
   "cell_type": "code",
   "execution_count": 38,
   "id": "f6d6cbb3",
   "metadata": {},
   "outputs": [],
   "source": [
    "error_rate = []\n",
    "\n",
    "# Will take some time\n",
    "for i in range(1,100):\n",
    "    \n",
    "    knn = KNeighborsClassifier(n_neighbors=i)\n",
    "    knn.fit(X_train,y_train)\n",
    "    pred_i = knn.predict(X_test)\n",
    "    error_rate.append(np.mean(pred_i != y_test))"
   ]
  },
  {
   "cell_type": "code",
   "execution_count": 40,
   "id": "27ae5991",
   "metadata": {},
   "outputs": [
    {
     "data": {
      "text/plain": [
       "Text(0, 0.5, 'Error (misclassification) Rate')"
      ]
     },
     "execution_count": 40,
     "metadata": {},
     "output_type": "execute_result"
    },
    {
     "data": {
      "image/png": "[encoded data removed]",
      "text/plain": [
       "<Figure size 720x432 with 1 Axes>"
      ]
     },
     "metadata": {
      "needs_background": "light"
     },
     "output_type": "display_data"
    }
   ],
   "source": [
    "plt.figure(figsize=(10,6))\n",
    "plt.plot(range(1,100),error_rate,color='blue', linestyle='dashed', marker='o',\n",
    "         markerfacecolor='red', markersize=8)\n",
    "plt.title('Error Rate vs. K Value', fontsize=20)\n",
    "plt.xlabel('K',fontsize=15)\n",
    "plt.ylabel('Error (misclassification) Rate',fontsize=15)"
   ]
  },
  {
   "cell_type": "code",
   "execution_count": 41,
   "id": "074802e7",
   "metadata": {},
   "outputs": [],
   "source": [
    "test = pd.read_csv('test.csv')"
   ]
  },
  {
   "cell_type": "code",
   "execution_count": 48,
   "id": "8cbefbd1",
   "metadata": {},
   "outputs": [],
   "source": [
    "test.fillna(df.mean(), inplace=True)\n",
    "scaled_test = scaler.transform(test.drop('region_area_',axis=1))"
   ]
  },
  {
   "cell_type": "code",
   "execution_count": 49,
   "id": "16fafbd2",
   "metadata": {},
   "outputs": [],
   "source": [
    "test_pred = knn.predict(scaled_test)"
   ]
  },
  {
   "cell_type": "code",
   "execution_count": 50,
   "id": "02b62ba1",
   "metadata": {},
   "outputs": [],
   "source": [
    "ex = test['region_area_']\n",
    "dat = pd.DataFrame(ex)\n",
    "dat['Portability'] = test_pred"
   ]
  },
  {
   "cell_type": "code",
   "execution_count": 51,
   "id": "8d373d6f",
   "metadata": {},
   "outputs": [
    {
     "data": {
      "text/html": [
       "<div>\n",
       "<style scoped>\n",
       "    .dataframe tbody tr th:only-of-type {\n",
       "        vertical-align: middle;\n",
       "    }\n",
       "\n",
       "    .dataframe tbody tr th {\n",
       "        vertical-align: top;\n",
       "    }\n",
       "\n",
       "    .dataframe thead th {\n",
       "        text-align: right;\n",
       "    }\n",
       "</style>\n",
       "<table border=\"1\" class=\"dataframe\">\n",
       "  <thead>\n",
       "    <tr style=\"text-align: right;\">\n",
       "      <th></th>\n",
       "      <th>region_area_</th>\n",
       "      <th>Portability</th>\n",
       "    </tr>\n",
       "  </thead>\n",
       "  <tbody>\n",
       "    <tr>\n",
       "      <th>0</th>\n",
       "      <td>region_area_0</td>\n",
       "      <td>1</td>\n",
       "    </tr>\n",
       "    <tr>\n",
       "      <th>1</th>\n",
       "      <td>region_area_10</td>\n",
       "      <td>1</td>\n",
       "    </tr>\n",
       "    <tr>\n",
       "      <th>2</th>\n",
       "      <td>region_area_1006</td>\n",
       "      <td>0</td>\n",
       "    </tr>\n",
       "    <tr>\n",
       "      <th>3</th>\n",
       "      <td>region_area_1010</td>\n",
       "      <td>0</td>\n",
       "    </tr>\n",
       "    <tr>\n",
       "      <th>4</th>\n",
       "      <td>region_area_1011</td>\n",
       "      <td>1</td>\n",
       "    </tr>\n",
       "  </tbody>\n",
       "</table>\n",
       "</div>"
      ],
      "text/plain": [
       "       region_area_  Portability\n",
       "0     region_area_0            1\n",
       "1    region_area_10            1\n",
       "2  region_area_1006            0\n",
       "3  region_area_1010            0\n",
       "4  region_area_1011            1"
      ]
     },
     "execution_count": 51,
     "metadata": {},
     "output_type": "execute_result"
    }
   ],
   "source": [
    "dat.head()"
   ]
  },
  {
   "cell_type": "code",
   "execution_count": 52,
   "id": "4340ea2f",
   "metadata": {},
   "outputs": [],
   "source": [
    "dat.to_csv('second.csv')"
   ]
  },
  {
   "cell_type": "code",
   "execution_count": 53,
   "id": "66064f54",
   "metadata": {},
   "outputs": [],
   "source": [
    "from sklearn.naive_bayes import GaussianNB"
   ]
  },
  {
   "cell_type": "code",
   "execution_count": 60,
   "id": "e55fc55e",
   "metadata": {},
   "outputs": [],
   "source": [
    "nbc = GaussianNB()"
   ]
  },
  {
   "cell_type": "code",
   "execution_count": 57,
   "id": "ffd28514",
   "metadata": {},
   "outputs": [
    {
     "data": {
      "text/plain": [
       "GaussianNB()"
      ]
     },
     "execution_count": 57,
     "metadata": {},
     "output_type": "execute_result"
    }
   ],
   "source": [
    "nbc.fit(X_train,y_train)"
   ]
  },
  {
   "cell_type": "code",
   "execution_count": 58,
   "id": "9a95e343",
   "metadata": {},
   "outputs": [
    {
     "name": "stdout",
     "output_type": "stream",
     "text": [
      "Total number of mislabelled data points from 1383 test samples is 607\n"
     ]
    }
   ],
   "source": [
    "y_pred = nbc.predict(X_test)\n",
    "mislabel = np.sum((y_test!=y_pred))\n",
    "print(\"Total number of mislabelled data points from {} test samples is {}\".format(len(y_test),mislabel))"
   ]
  },
  {
   "cell_type": "code",
   "execution_count": 59,
   "id": "a07050aa",
   "metadata": {},
   "outputs": [],
   "source": [
    "from sklearn.metrics import classification_report"
   ]
  },
  {
   "cell_type": "code",
   "execution_count": 61,
   "id": "ff5a7ff9",
   "metadata": {},
   "outputs": [
    {
     "name": "stdout",
     "output_type": "stream",
     "text": [
      "The classification report is as follows...\n",
      "\n",
      "              precision    recall  f1-score   support\n",
      "\n",
      "           0       0.67      0.56      0.61       842\n",
      "           1       0.45      0.56      0.50       541\n",
      "\n",
      "    accuracy                           0.56      1383\n",
      "   macro avg       0.56      0.56      0.55      1383\n",
      "weighted avg       0.58      0.56      0.57      1383\n",
      "\n"
     ]
    }
   ],
   "source": [
    "print(\"The classification report is as follows...\\n\")\n",
    "print(classification_report(y_pred,y_test))"
   ]
  },
  {
   "cell_type": "code",
   "execution_count": 62,
   "id": "9aa6a145",
   "metadata": {},
   "outputs": [
    {
     "name": "stdout",
     "output_type": "stream",
     "text": [
      "[[435 272]\n",
      " [203 473]]\n"
     ]
    }
   ],
   "source": [
    "\n",
    "conf_mat=confusion_matrix(y_test,pred)\n",
    "print(conf_mat)"
   ]
  },
  {
   "cell_type": "code",
   "execution_count": 63,
   "id": "b5f5b0af",
   "metadata": {},
   "outputs": [],
   "source": [
    "from sklearn.tree import DecisionTreeClassifier"
   ]
  },
  {
   "cell_type": "code",
   "execution_count": 64,
   "id": "83397206",
   "metadata": {},
   "outputs": [],
   "source": [
    "dtree = DecisionTreeClassifier(criterion='gini',max_depth=None)"
   ]
  },
  {
   "cell_type": "code",
   "execution_count": 65,
   "id": "97e7dbe4",
   "metadata": {},
   "outputs": [
    {
     "data": {
      "text/plain": [
       "DecisionTreeClassifier()"
      ]
     },
     "execution_count": 65,
     "metadata": {},
     "output_type": "execute_result"
    }
   ],
   "source": [
    "dtree.fit(X_train,y_train)"
   ]
  },
  {
   "cell_type": "code",
   "execution_count": 66,
   "id": "a5a93700",
   "metadata": {},
   "outputs": [],
   "source": [
    "predictions = dtree.predict(X_test)"
   ]
  },
  {
   "cell_type": "code",
   "execution_count": 67,
   "id": "fff7a9ae",
   "metadata": {},
   "outputs": [
    {
     "name": "stdout",
     "output_type": "stream",
     "text": [
      "              precision    recall  f1-score   support\n",
      "\n",
      "           0       0.68      0.62      0.65       707\n",
      "           1       0.64      0.70      0.67       676\n",
      "\n",
      "    accuracy                           0.66      1383\n",
      "   macro avg       0.66      0.66      0.66      1383\n",
      "weighted avg       0.66      0.66      0.66      1383\n",
      "\n"
     ]
    }
   ],
   "source": [
    "print(classification_report(y_test,predictions))"
   ]
  },
  {
   "cell_type": "code",
   "execution_count": 68,
   "id": "edbd69e5",
   "metadata": {},
   "outputs": [
    {
     "name": "stdout",
     "output_type": "stream",
     "text": [
      "[[440 267]\n",
      " [204 472]]\n",
      "Accuracy of prediction: 0.659\n"
     ]
    }
   ],
   "source": [
    "cm=confusion_matrix(y_test,predictions)\n",
    "print(cm)\n",
    "print (\"Accuracy of prediction:\",round((cm[0,0]+cm[1,1])/cm.sum(),3))"
   ]
  },
  {
   "cell_type": "code",
   "execution_count": 69,
   "id": "9257555e",
   "metadata": {},
   "outputs": [],
   "source": [
    "from sklearn.ensemble import RandomForestClassifier"
   ]
  },
  {
   "cell_type": "code",
   "execution_count": 191,
   "id": "bb04f2ab",
   "metadata": {},
   "outputs": [],
   "source": [
    "rfc = RandomForestClassifier(n_estimators=6)"
   ]
  },
  {
   "cell_type": "code",
   "execution_count": 192,
   "id": "7863f860",
   "metadata": {},
   "outputs": [
    {
     "data": {
      "text/plain": [
       "RandomForestClassifier(n_estimators=6)"
      ]
     },
     "execution_count": 192,
     "metadata": {},
     "output_type": "execute_result"
    }
   ],
   "source": [
    "rfc.fit(X_train, y_train)"
   ]
  },
  {
   "cell_type": "code",
   "execution_count": 193,
   "id": "76b062e3",
   "metadata": {},
   "outputs": [],
   "source": [
    "rfc_pred = rfc.predict(X_test)"
   ]
  },
  {
   "cell_type": "code",
   "execution_count": 194,
   "id": "852d9e12",
   "metadata": {},
   "outputs": [],
   "source": [
    "cr = classification_report(y_test,predictions)"
   ]
  },
  {
   "cell_type": "code",
   "execution_count": 195,
   "id": "381e9948",
   "metadata": {},
   "outputs": [
    {
     "name": "stdout",
     "output_type": "stream",
     "text": [
      "              precision    recall  f1-score   support\n",
      "\n",
      "           0       0.68      0.62      0.65       707\n",
      "           1       0.64      0.70      0.67       676\n",
      "\n",
      "    accuracy                           0.66      1383\n",
      "   macro avg       0.66      0.66      0.66      1383\n",
      "weighted avg       0.66      0.66      0.66      1383\n",
      "\n"
     ]
    }
   ],
   "source": [
    "print(cr)"
   ]
  },
  {
   "cell_type": "code",
   "execution_count": 196,
   "id": "f898cf8e",
   "metadata": {},
   "outputs": [
    {
     "name": "stdout",
     "output_type": "stream",
     "text": [
      "[[515 192]\n",
      " [259 417]]\n"
     ]
    }
   ],
   "source": [
    "cm = confusion_matrix(y_test,rfc_pred)\n",
    "print(cm)"
   ]
  },
  {
   "cell_type": "code",
   "execution_count": 124,
   "id": "d4f94962",
   "metadata": {},
   "outputs": [],
   "source": [
    "nsimu = 21\n",
    "accuracy=[0]*nsimu\n",
    "ntree = [0]*nsimu\n",
    "for i in range(1,nsimu):\n",
    "    rfc = RandomForestClassifier(n_estimators=i*5,min_samples_split=10,max_depth=None,criterion='gini')\n",
    "    rfc.fit(X_train, y_train)\n",
    "    rfc_pred = rfc.predict(X_test)\n",
    "    cm = confusion_matrix(y_test,rfc_pred)\n",
    "    accuracy[i] = (cm[0,0]+cm[1,1])/cm.sum()\n",
    "    ntree[i]=i*5"
   ]
  },
  {
   "cell_type": "code",
   "execution_count": 77,
   "id": "2a0eb052",
   "metadata": {},
   "outputs": [
    {
     "data": {
      "text/plain": [
       "Text(0, 0.5, 'Prediction accuracy from confusion matrix')"
      ]
     },
     "execution_count": 77,
     "metadata": {},
     "output_type": "execute_result"
    },
    {
     "data": {
      "image/png": "[encoded data removed]",
      "text/plain": [
       "<Figure size 720x432 with 1 Axes>"
      ]
     },
     "metadata": {
      "needs_background": "light"
     },
     "output_type": "display_data"
    }
   ],
   "source": [
    "plt.figure(figsize=(10,6))\n",
    "plt.scatter(x=ntree[1:nsimu],y=accuracy[1:nsimu],s=60,c='red')\n",
    "plt.title(\"Number of trees in the Random Forest vs. prediction accuracy (criterion: 'gini')\", fontsize=18)\n",
    "plt.xlabel(\"Number of trees\", fontsize=15)\n",
    "plt.ylabel(\"Prediction accuracy from confusion matrix\", fontsize=15)"
   ]
  },
  {
   "cell_type": "code",
   "execution_count": 78,
   "id": "7f0430be",
   "metadata": {},
   "outputs": [],
   "source": [
    "nsimu = 21\n",
    "accuracy=[0]*nsimu\n",
    "ntree = [0]*nsimu\n",
    "for i in range(1,nsimu):\n",
    "    rfc = RandomForestClassifier(n_estimators=i*5,min_samples_split=10,max_depth=None,criterion='entropy')\n",
    "    rfc.fit(X_train, y_train)\n",
    "    rfc_pred = rfc.predict(X_test)\n",
    "    cm = confusion_matrix(y_test,rfc_pred)\n",
    "    accuracy[i] = (cm[0,0]+cm[1,1])/cm.sum()\n",
    "    ntree[i]=i*5"
   ]
  },
  {
   "cell_type": "code",
   "execution_count": 79,
   "id": "1634b834",
   "metadata": {},
   "outputs": [
    {
     "data": {
      "text/plain": [
       "Text(0, 0.5, 'Prediction accuracy from confusion matrix')"
      ]
     },
     "execution_count": 79,
     "metadata": {},
     "output_type": "execute_result"
    },
    {
     "data": {
      "image/png": "[encoded data removed]",
      "text/plain": [
       "<Figure size 720x432 with 1 Axes>"
      ]
     },
     "metadata": {
      "needs_background": "light"
     },
     "output_type": "display_data"
    }
   ],
   "source": [
    "plt.figure(figsize=(10,6))\n",
    "plt.scatter(x=ntree[1:nsimu],y=accuracy[1:nsimu],s=60,c='red')\n",
    "plt.title(\"Number of trees in the Random Forest vs. prediction accuracy (criterion: 'entropy')\", fontsize=18)\n",
    "plt.xlabel(\"Number of trees\", fontsize=15)\n",
    "plt.ylabel(\"Prediction accuracy from confusion matrix\", fontsize=15)"
   ]
  },
  {
   "cell_type": "code",
   "execution_count": 80,
   "id": "6479a159",
   "metadata": {},
   "outputs": [],
   "source": [
    "nsimu = 21\n",
    "accuracy=[0]*nsimu\n",
    "ntree = [0]*nsimu\n",
    "for i in range(1,nsimu):\n",
    "    rfc = RandomForestClassifier(n_estimators=i*5,min_samples_split=10,max_depth=None,criterion='gini')\n",
    "    rfc.fit(X_train, y_train)\n",
    "    rfc_pred = rfc.predict(X_test)\n",
    "    cm = confusion_matrix(y_test,rfc_pred)\n",
    "    accuracy[i] = (cm[0,0]+cm[1,1])/cm.sum()\n",
    "    ntree[i]=i*5"
   ]
  },
  {
   "cell_type": "code",
   "execution_count": 81,
   "id": "2ff9188b",
   "metadata": {},
   "outputs": [
    {
     "data": {
      "text/plain": [
       "Text(0, 0.5, 'Prediction accuracy from confusion matrix')"
      ]
     },
     "execution_count": 81,
     "metadata": {},
     "output_type": "execute_result"
    },
    {
     "data": {
      "image/png": "[encoded data removed]",
      "text/plain": [
       "<Figure size 720x432 with 1 Axes>"
      ]
     },
     "metadata": {
      "needs_background": "light"
     },
     "output_type": "display_data"
    }
   ],
   "source": [
    "plt.figure(figsize=(10,6))\n",
    "plt.scatter(x=ntree[1:nsimu],y=accuracy[1:nsimu],s=60,c='red')\n",
    "plt.title(\"Number of trees in the Random Forest vs. prediction accuracy (max depth: None)\", fontsize=18)\n",
    "plt.xlabel(\"Number of trees\", fontsize=15)\n",
    "plt.ylabel(\"Prediction accuracy from confusion matrix\", fontsize=15)"
   ]
  },
  {
   "cell_type": "code",
   "execution_count": 82,
   "id": "8fb51a80",
   "metadata": {},
   "outputs": [],
   "source": [
    "nsimu = 21\n",
    "accuracy=[0]*nsimu\n",
    "ntree = [0]*nsimu\n",
    "for i in range(1,nsimu):\n",
    "    rfc = RandomForestClassifier(n_estimators=i*5,min_samples_split=10,max_depth=5,criterion='gini')\n",
    "    rfc.fit(X_train, y_train)\n",
    "    rfc_pred = rfc.predict(X_test)\n",
    "    cm = confusion_matrix(y_test,rfc_pred)\n",
    "    accuracy[i] = (cm[0,0]+cm[1,1])/cm.sum()\n",
    "    ntree[i]=i*5"
   ]
  },
  {
   "cell_type": "code",
   "execution_count": 83,
   "id": "462f2643",
   "metadata": {},
   "outputs": [
    {
     "data": {
      "text/plain": [
       "Text(0, 0.5, 'Prediction accuracy from confusion matrix')"
      ]
     },
     "execution_count": 83,
     "metadata": {},
     "output_type": "execute_result"
    },
    {
     "data": {
      "image/png": "[encoded data removed]",
      "text/plain": [
       "<Figure size 720x432 with 1 Axes>"
      ]
     },
     "metadata": {
      "needs_background": "light"
     },
     "output_type": "display_data"
    }
   ],
   "source": [
    "plt.figure(figsize=(10,6))\n",
    "plt.scatter(x=ntree[1:nsimu],y=accuracy[1:nsimu],s=60,c='red')\n",
    "plt.title(\"Number of trees in the Random Forest vs. prediction accuracy (max depth: 5)\", fontsize=18)\n",
    "plt.xlabel(\"Number of trees\", fontsize=15)\n",
    "plt.ylabel(\"Prediction accuracy from confusion matrix\", fontsize=15)"
   ]
  },
  {
   "cell_type": "code",
   "execution_count": 84,
   "id": "a181282a",
   "metadata": {},
   "outputs": [],
   "source": [
    "nsimu = 21\n",
    "accuracy=[0]*nsimu\n",
    "ntree = [0]*nsimu\n",
    "for i in range(1,nsimu):\n",
    "    rfc = RandomForestClassifier(n_estimators=i*5,min_samples_split=2,max_depth=None,criterion='gini')\n",
    "    rfc.fit(X_train, y_train)\n",
    "    rfc_pred = rfc.predict(X_test)\n",
    "    cm = confusion_matrix(y_test,rfc_pred)\n",
    "    accuracy[i] = (cm[0,0]+cm[1,1])/cm.sum()\n",
    "    ntree[i]=i*5"
   ]
  },
  {
   "cell_type": "code",
   "execution_count": 85,
   "id": "5822941b",
   "metadata": {},
   "outputs": [
    {
     "data": {
      "text/plain": [
       "Text(0, 0.5, 'Prediction accuracy from confusion matrix')"
      ]
     },
     "execution_count": 85,
     "metadata": {},
     "output_type": "execute_result"
    },
    {
     "data": {
      "image/png": "[encoded data removed]",
      "text/plain": [
       "<Figure size 720x432 with 1 Axes>"
      ]
     },
     "metadata": {
      "needs_background": "light"
     },
     "output_type": "display_data"
    }
   ],
   "source": [
    "plt.figure(figsize=(10,6))\n",
    "plt.scatter(x=ntree[1:nsimu],y=accuracy[1:nsimu],s=60,c='red')\n",
    "plt.title(\"Number of trees in the Random Forest vs. prediction accuracy (minimum sample split: 2)\", fontsize=18)\n",
    "plt.xlabel(\"Number of trees\", fontsize=15)\n",
    "plt.ylabel(\"Prediction accuracy from confusion matrix\", fontsize=15)"
   ]
  },
  {
   "cell_type": "code",
   "execution_count": 86,
   "id": "c855c6c2",
   "metadata": {},
   "outputs": [],
   "source": [
    "nsimu = 21\n",
    "accuracy=[0]*nsimu\n",
    "ntree = [0]*nsimu\n",
    "for i in range(1,nsimu):\n",
    "    rfc = RandomForestClassifier(n_estimators=i*5,min_samples_split=20,max_depth=None,criterion='gini')\n",
    "    rfc.fit(X_train, y_train)\n",
    "    rfc_pred = rfc.predict(X_test)\n",
    "    cm = confusion_matrix(y_test,rfc_pred)\n",
    "    accuracy[i] = (cm[0,0]+cm[1,1])/cm.sum()\n",
    "    ntree[i]=i*5"
   ]
  },
  {
   "cell_type": "code",
   "execution_count": 87,
   "id": "600c7239",
   "metadata": {},
   "outputs": [
    {
     "data": {
      "text/plain": [
       "Text(0, 0.5, 'Prediction accuracy from confusion matrix')"
      ]
     },
     "execution_count": 87,
     "metadata": {},
     "output_type": "execute_result"
    },
    {
     "data": {
      "image/png": "[encoded data removed]",
      "text/plain": [
       "<Figure size 720x432 with 1 Axes>"
      ]
     },
     "metadata": {
      "needs_background": "light"
     },
     "output_type": "display_data"
    }
   ],
   "source": [
    "plt.figure(figsize=(10,6))\n",
    "plt.scatter(x=ntree[1:nsimu],y=accuracy[1:nsimu],s=60,c='red')\n",
    "plt.title(\"Number of trees in the Random Forest vs. prediction accuracy (minimum sample split: 20)\", fontsize=18)\n",
    "plt.xlabel(\"Number of trees\", fontsize=15)\n",
    "plt.ylabel(\"Prediction accuracy from confusion matrix\", fontsize=15)"
   ]
  },
  {
   "cell_type": "code",
   "execution_count": 200,
   "id": "96feb820",
   "metadata": {},
   "outputs": [
    {
     "data": {
      "text/plain": [
       "array([0, 1, 1, ..., 1, 0, 0], dtype=int64)"
      ]
     },
     "execution_count": 200,
     "metadata": {},
     "output_type": "execute_result"
    }
   ],
   "source": [
    "from sklearn.naive_bayes import GaussianNB\n",
    "nb = GaussianNB()\n",
    "nb.fit(X_train, y_train)\n",
    "nb.predict(X_test)"
   ]
  },
  {
   "cell_type": "code",
   "execution_count": 212,
   "id": "4808307d",
   "metadata": {},
   "outputs": [
    {
     "name": "stdout",
     "output_type": "stream",
     "text": [
      "              precision    recall  f1-score   support\n",
      "\n",
      "           0       0.56      0.67      0.61       707\n",
      "           1       0.56      0.45      0.50       676\n",
      "\n",
      "    accuracy                           0.56      1383\n",
      "   macro avg       0.56      0.56      0.55      1383\n",
      "weighted avg       0.56      0.56      0.56      1383\n",
      "\n",
      "[[471 236]\n",
      " [371 305]]\n",
      "Accuracy of prediction: 0.561\n"
     ]
    }
   ],
   "source": [
    "print(classification_report(y_test,nb.predict(X_test)))\n",
    "cm=confusion_matrix(y_test,nb.predict(X_test))\n",
    "print(cm)\n",
    "print (\"Accuracy of prediction:\",round((cm[0,0]+cm[1,1])/cm.sum(),3))"
   ]
  },
  {
   "cell_type": "code",
   "execution_count": 203,
   "id": "86c822a0",
   "metadata": {},
   "outputs": [],
   "source": [
    "rfc_pred = rfc.predict(test.drop('region_area_',axis=1))\n",
    "rex = test['region_area_']\n",
    "rdat = pd.DataFrame(rex)\n",
    "rdat['Portability'] = rfc_pred"
   ]
  },
  {
   "cell_type": "code",
   "execution_count": 204,
   "id": "3940fb24",
   "metadata": {},
   "outputs": [],
   "source": [
    "rdat.to_csv('r_dat.csv')"
   ]
  },
  {
   "cell_type": "code",
   "execution_count": 207,
   "id": "f4ef1d47",
   "metadata": {},
   "outputs": [],
   "source": [
    "rfc_pred = rfc.predict_proba(test.drop('region_area_',axis=1))"
   ]
  },
  {
   "cell_type": "code",
   "execution_count": 211,
   "id": "800b5e2f",
   "metadata": {},
   "outputs": [
    {
     "data": {
      "text/plain": [
       "array([[0.33333333, 0.66666667],\n",
       "       [0.33333333, 0.66666667],\n",
       "       [0.33333333, 0.66666667],\n",
       "       ...,\n",
       "       [0.33333333, 0.66666667],\n",
       "       [0.33333333, 0.66666667],\n",
       "       [0.33333333, 0.66666667]])"
      ]
     },
     "execution_count": 211,
     "metadata": {},
     "output_type": "execute_result"
    }
   ],
   "source": [
    "rfc_pred"
   ]
  },
  {
   "cell_type": "code",
   "execution_count": null,
   "id": "f7abd11f",
   "metadata": {},
   "outputs": [],
   "source": []
  }
 ],
 "metadata": {
  "kernelspec": {
   "display_name": "Python 3",
   "language": "python",
   "name": "python3"
  },
  "language_info": {
   "codemirror_mode": {
    "name": "ipython",
    "version": 3
   },
   "file_extension": ".py",
   "mimetype": "text/x-python",
   "name": "python",
   "nbconvert_exporter": "python",
   "pygments_lexer": "ipython3",
   "version": "3.8.8"
  }
 },
 "nbformat": 4,
 "nbformat_minor": 5
}
